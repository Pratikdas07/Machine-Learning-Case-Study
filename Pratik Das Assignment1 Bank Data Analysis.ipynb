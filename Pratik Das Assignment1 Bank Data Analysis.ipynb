{
 "cells": [
  {
   "cell_type": "code",
   "execution_count": 11,
   "id": "a33572fc",
   "metadata": {},
   "outputs": [],
   "source": [
    "import pandas as pd"
   ]
  },
  {
   "cell_type": "code",
   "execution_count": 24,
   "id": "eebe4442",
   "metadata": {},
   "outputs": [
    {
     "data": {
      "text/html": [
       "<div>\n",
       "<style scoped>\n",
       "    .dataframe tbody tr th:only-of-type {\n",
       "        vertical-align: middle;\n",
       "    }\n",
       "\n",
       "    .dataframe tbody tr th {\n",
       "        vertical-align: top;\n",
       "    }\n",
       "\n",
       "    .dataframe thead th {\n",
       "        text-align: right;\n",
       "    }\n",
       "</style>\n",
       "<table border=\"1\" class=\"dataframe\">\n",
       "  <thead>\n",
       "    <tr style=\"text-align: right;\">\n",
       "      <th></th>\n",
       "      <th>age</th>\n",
       "      <th>job</th>\n",
       "      <th>marital</th>\n",
       "      <th>education</th>\n",
       "      <th>default</th>\n",
       "      <th>balance</th>\n",
       "      <th>housing</th>\n",
       "      <th>loan</th>\n",
       "      <th>contact</th>\n",
       "      <th>day</th>\n",
       "      <th>month</th>\n",
       "      <th>duration</th>\n",
       "      <th>campaign</th>\n",
       "      <th>pdays</th>\n",
       "      <th>previous</th>\n",
       "      <th>poutcome</th>\n",
       "      <th>y</th>\n",
       "    </tr>\n",
       "  </thead>\n",
       "  <tbody>\n",
       "    <tr>\n",
       "      <th>0</th>\n",
       "      <td>58</td>\n",
       "      <td>management</td>\n",
       "      <td>married</td>\n",
       "      <td>tertiary</td>\n",
       "      <td>no</td>\n",
       "      <td>2143</td>\n",
       "      <td>yes</td>\n",
       "      <td>no</td>\n",
       "      <td>unknown</td>\n",
       "      <td>5</td>\n",
       "      <td>may</td>\n",
       "      <td>261</td>\n",
       "      <td>1</td>\n",
       "      <td>-1</td>\n",
       "      <td>0</td>\n",
       "      <td>unknown</td>\n",
       "      <td>no</td>\n",
       "    </tr>\n",
       "    <tr>\n",
       "      <th>1</th>\n",
       "      <td>44</td>\n",
       "      <td>technician</td>\n",
       "      <td>single</td>\n",
       "      <td>secondary</td>\n",
       "      <td>no</td>\n",
       "      <td>29</td>\n",
       "      <td>yes</td>\n",
       "      <td>no</td>\n",
       "      <td>unknown</td>\n",
       "      <td>5</td>\n",
       "      <td>may</td>\n",
       "      <td>151</td>\n",
       "      <td>1</td>\n",
       "      <td>-1</td>\n",
       "      <td>0</td>\n",
       "      <td>unknown</td>\n",
       "      <td>no</td>\n",
       "    </tr>\n",
       "    <tr>\n",
       "      <th>2</th>\n",
       "      <td>33</td>\n",
       "      <td>entrepreneur</td>\n",
       "      <td>married</td>\n",
       "      <td>secondary</td>\n",
       "      <td>no</td>\n",
       "      <td>2</td>\n",
       "      <td>yes</td>\n",
       "      <td>yes</td>\n",
       "      <td>unknown</td>\n",
       "      <td>5</td>\n",
       "      <td>may</td>\n",
       "      <td>76</td>\n",
       "      <td>1</td>\n",
       "      <td>-1</td>\n",
       "      <td>0</td>\n",
       "      <td>unknown</td>\n",
       "      <td>no</td>\n",
       "    </tr>\n",
       "    <tr>\n",
       "      <th>3</th>\n",
       "      <td>47</td>\n",
       "      <td>blue-collar</td>\n",
       "      <td>married</td>\n",
       "      <td>unknown</td>\n",
       "      <td>no</td>\n",
       "      <td>1506</td>\n",
       "      <td>yes</td>\n",
       "      <td>no</td>\n",
       "      <td>unknown</td>\n",
       "      <td>5</td>\n",
       "      <td>may</td>\n",
       "      <td>92</td>\n",
       "      <td>1</td>\n",
       "      <td>-1</td>\n",
       "      <td>0</td>\n",
       "      <td>unknown</td>\n",
       "      <td>no</td>\n",
       "    </tr>\n",
       "    <tr>\n",
       "      <th>4</th>\n",
       "      <td>33</td>\n",
       "      <td>unknown</td>\n",
       "      <td>single</td>\n",
       "      <td>unknown</td>\n",
       "      <td>no</td>\n",
       "      <td>1</td>\n",
       "      <td>no</td>\n",
       "      <td>no</td>\n",
       "      <td>unknown</td>\n",
       "      <td>5</td>\n",
       "      <td>may</td>\n",
       "      <td>198</td>\n",
       "      <td>1</td>\n",
       "      <td>-1</td>\n",
       "      <td>0</td>\n",
       "      <td>unknown</td>\n",
       "      <td>no</td>\n",
       "    </tr>\n",
       "    <tr>\n",
       "      <th>...</th>\n",
       "      <td>...</td>\n",
       "      <td>...</td>\n",
       "      <td>...</td>\n",
       "      <td>...</td>\n",
       "      <td>...</td>\n",
       "      <td>...</td>\n",
       "      <td>...</td>\n",
       "      <td>...</td>\n",
       "      <td>...</td>\n",
       "      <td>...</td>\n",
       "      <td>...</td>\n",
       "      <td>...</td>\n",
       "      <td>...</td>\n",
       "      <td>...</td>\n",
       "      <td>...</td>\n",
       "      <td>...</td>\n",
       "      <td>...</td>\n",
       "    </tr>\n",
       "    <tr>\n",
       "      <th>45206</th>\n",
       "      <td>51</td>\n",
       "      <td>technician</td>\n",
       "      <td>married</td>\n",
       "      <td>tertiary</td>\n",
       "      <td>no</td>\n",
       "      <td>825</td>\n",
       "      <td>no</td>\n",
       "      <td>no</td>\n",
       "      <td>cellular</td>\n",
       "      <td>17</td>\n",
       "      <td>nov</td>\n",
       "      <td>977</td>\n",
       "      <td>3</td>\n",
       "      <td>-1</td>\n",
       "      <td>0</td>\n",
       "      <td>unknown</td>\n",
       "      <td>yes</td>\n",
       "    </tr>\n",
       "    <tr>\n",
       "      <th>45207</th>\n",
       "      <td>71</td>\n",
       "      <td>retired</td>\n",
       "      <td>divorced</td>\n",
       "      <td>primary</td>\n",
       "      <td>no</td>\n",
       "      <td>1729</td>\n",
       "      <td>no</td>\n",
       "      <td>no</td>\n",
       "      <td>cellular</td>\n",
       "      <td>17</td>\n",
       "      <td>nov</td>\n",
       "      <td>456</td>\n",
       "      <td>2</td>\n",
       "      <td>-1</td>\n",
       "      <td>0</td>\n",
       "      <td>unknown</td>\n",
       "      <td>yes</td>\n",
       "    </tr>\n",
       "    <tr>\n",
       "      <th>45208</th>\n",
       "      <td>72</td>\n",
       "      <td>retired</td>\n",
       "      <td>married</td>\n",
       "      <td>secondary</td>\n",
       "      <td>no</td>\n",
       "      <td>5715</td>\n",
       "      <td>no</td>\n",
       "      <td>no</td>\n",
       "      <td>cellular</td>\n",
       "      <td>17</td>\n",
       "      <td>nov</td>\n",
       "      <td>1127</td>\n",
       "      <td>5</td>\n",
       "      <td>184</td>\n",
       "      <td>3</td>\n",
       "      <td>success</td>\n",
       "      <td>yes</td>\n",
       "    </tr>\n",
       "    <tr>\n",
       "      <th>45209</th>\n",
       "      <td>57</td>\n",
       "      <td>blue-collar</td>\n",
       "      <td>married</td>\n",
       "      <td>secondary</td>\n",
       "      <td>no</td>\n",
       "      <td>668</td>\n",
       "      <td>no</td>\n",
       "      <td>no</td>\n",
       "      <td>telephone</td>\n",
       "      <td>17</td>\n",
       "      <td>nov</td>\n",
       "      <td>508</td>\n",
       "      <td>4</td>\n",
       "      <td>-1</td>\n",
       "      <td>0</td>\n",
       "      <td>unknown</td>\n",
       "      <td>no</td>\n",
       "    </tr>\n",
       "    <tr>\n",
       "      <th>45210</th>\n",
       "      <td>37</td>\n",
       "      <td>entrepreneur</td>\n",
       "      <td>married</td>\n",
       "      <td>secondary</td>\n",
       "      <td>no</td>\n",
       "      <td>2971</td>\n",
       "      <td>no</td>\n",
       "      <td>no</td>\n",
       "      <td>cellular</td>\n",
       "      <td>17</td>\n",
       "      <td>nov</td>\n",
       "      <td>361</td>\n",
       "      <td>2</td>\n",
       "      <td>188</td>\n",
       "      <td>11</td>\n",
       "      <td>other</td>\n",
       "      <td>no</td>\n",
       "    </tr>\n",
       "  </tbody>\n",
       "</table>\n",
       "<p>45211 rows × 17 columns</p>\n",
       "</div>"
      ],
      "text/plain": [
       "       age           job   marital  education default  balance housing loan  \\\n",
       "0       58    management   married   tertiary      no     2143     yes   no   \n",
       "1       44    technician    single  secondary      no       29     yes   no   \n",
       "2       33  entrepreneur   married  secondary      no        2     yes  yes   \n",
       "3       47   blue-collar   married    unknown      no     1506     yes   no   \n",
       "4       33       unknown    single    unknown      no        1      no   no   \n",
       "...    ...           ...       ...        ...     ...      ...     ...  ...   \n",
       "45206   51    technician   married   tertiary      no      825      no   no   \n",
       "45207   71       retired  divorced    primary      no     1729      no   no   \n",
       "45208   72       retired   married  secondary      no     5715      no   no   \n",
       "45209   57   blue-collar   married  secondary      no      668      no   no   \n",
       "45210   37  entrepreneur   married  secondary      no     2971      no   no   \n",
       "\n",
       "         contact  day month  duration  campaign  pdays  previous poutcome    y  \n",
       "0        unknown    5   may       261         1     -1         0  unknown   no  \n",
       "1        unknown    5   may       151         1     -1         0  unknown   no  \n",
       "2        unknown    5   may        76         1     -1         0  unknown   no  \n",
       "3        unknown    5   may        92         1     -1         0  unknown   no  \n",
       "4        unknown    5   may       198         1     -1         0  unknown   no  \n",
       "...          ...  ...   ...       ...       ...    ...       ...      ...  ...  \n",
       "45206   cellular   17   nov       977         3     -1         0  unknown  yes  \n",
       "45207   cellular   17   nov       456         2     -1         0  unknown  yes  \n",
       "45208   cellular   17   nov      1127         5    184         3  success  yes  \n",
       "45209  telephone   17   nov       508         4     -1         0  unknown   no  \n",
       "45210   cellular   17   nov       361         2    188        11    other   no  \n",
       "\n",
       "[45211 rows x 17 columns]"
      ]
     },
     "execution_count": 24,
     "metadata": {},
     "output_type": "execute_result"
    }
   ],
   "source": [
    "bank=pd.read_csv(r\"E:\\Data science training\\R AND PYTHON KPMG\\stat and ml\\ASSIGNMENT\\asssigmnent2\\bank-full.csv\")\n",
    "bank"
   ]
  },
  {
   "cell_type": "code",
   "execution_count": 25,
   "id": "929f4b46",
   "metadata": {},
   "outputs": [
    {
     "data": {
      "text/plain": [
       "Index(['age', 'job', 'marital', 'education', 'default', 'balance', 'housing',\n",
       "       'loan', 'contact', 'day', 'month', 'duration', 'campaign', 'pdays',\n",
       "       'previous', 'poutcome', 'y'],\n",
       "      dtype='object')"
      ]
     },
     "execution_count": 25,
     "metadata": {},
     "output_type": "execute_result"
    }
   ],
   "source": [
    "bank.columns"
   ]
  },
  {
   "cell_type": "code",
   "execution_count": 31,
   "id": "a81f851f",
   "metadata": {},
   "outputs": [],
   "source": [
    "# Lets create a new data frame with only those column which are required to build the model\n",
    "\n",
    "bank_new = bank[['age','marital','y']]"
   ]
  },
  {
   "cell_type": "code",
   "execution_count": 32,
   "id": "23b61d95",
   "metadata": {},
   "outputs": [
    {
     "data": {
      "text/html": [
       "<div>\n",
       "<style scoped>\n",
       "    .dataframe tbody tr th:only-of-type {\n",
       "        vertical-align: middle;\n",
       "    }\n",
       "\n",
       "    .dataframe tbody tr th {\n",
       "        vertical-align: top;\n",
       "    }\n",
       "\n",
       "    .dataframe thead th {\n",
       "        text-align: right;\n",
       "    }\n",
       "</style>\n",
       "<table border=\"1\" class=\"dataframe\">\n",
       "  <thead>\n",
       "    <tr style=\"text-align: right;\">\n",
       "      <th></th>\n",
       "      <th>age</th>\n",
       "      <th>marital</th>\n",
       "      <th>y</th>\n",
       "    </tr>\n",
       "  </thead>\n",
       "  <tbody>\n",
       "    <tr>\n",
       "      <th>0</th>\n",
       "      <td>58</td>\n",
       "      <td>married</td>\n",
       "      <td>no</td>\n",
       "    </tr>\n",
       "    <tr>\n",
       "      <th>1</th>\n",
       "      <td>44</td>\n",
       "      <td>single</td>\n",
       "      <td>no</td>\n",
       "    </tr>\n",
       "    <tr>\n",
       "      <th>2</th>\n",
       "      <td>33</td>\n",
       "      <td>married</td>\n",
       "      <td>no</td>\n",
       "    </tr>\n",
       "    <tr>\n",
       "      <th>3</th>\n",
       "      <td>47</td>\n",
       "      <td>married</td>\n",
       "      <td>no</td>\n",
       "    </tr>\n",
       "    <tr>\n",
       "      <th>4</th>\n",
       "      <td>33</td>\n",
       "      <td>single</td>\n",
       "      <td>no</td>\n",
       "    </tr>\n",
       "  </tbody>\n",
       "</table>\n",
       "</div>"
      ],
      "text/plain": [
       "   age  marital   y\n",
       "0   58  married  no\n",
       "1   44   single  no\n",
       "2   33  married  no\n",
       "3   47  married  no\n",
       "4   33   single  no"
      ]
     },
     "execution_count": 32,
     "metadata": {},
     "output_type": "execute_result"
    }
   ],
   "source": [
    "bank_new.head()"
   ]
  },
  {
   "cell_type": "code",
   "execution_count": 34,
   "id": "f8cab8cb",
   "metadata": {},
   "outputs": [
    {
     "name": "stdout",
     "output_type": "stream",
     "text": [
      "<class 'pandas.core.frame.DataFrame'>\n",
      "RangeIndex: 45211 entries, 0 to 45210\n",
      "Data columns (total 3 columns):\n",
      " #   Column   Non-Null Count  Dtype \n",
      "---  ------   --------------  ----- \n",
      " 0   age      45211 non-null  int64 \n",
      " 1   marital  45211 non-null  object\n",
      " 2   y        45211 non-null  object\n",
      "dtypes: int64(1), object(2)\n",
      "memory usage: 1.0+ MB\n"
     ]
    }
   ],
   "source": [
    "bank_new.info()"
   ]
  },
  {
   "cell_type": "code",
   "execution_count": 35,
   "id": "644175a7",
   "metadata": {},
   "outputs": [],
   "source": [
    "cat_col = ['marital','y']"
   ]
  },
  {
   "cell_type": "code",
   "execution_count": 36,
   "id": "ba35a453",
   "metadata": {},
   "outputs": [
    {
     "data": {
      "text/plain": [
       "(45211, 4)"
      ]
     },
     "execution_count": 36,
     "metadata": {},
     "output_type": "execute_result"
    }
   ],
   "source": [
    "bank_dummy = pd.get_dummies(bank_new,columns=cat_col,drop_first=True)\n",
    "bank_dummy.shape"
   ]
  },
  {
   "cell_type": "code",
   "execution_count": 37,
   "id": "3539584a",
   "metadata": {},
   "outputs": [
    {
     "data": {
      "text/html": [
       "<div>\n",
       "<style scoped>\n",
       "    .dataframe tbody tr th:only-of-type {\n",
       "        vertical-align: middle;\n",
       "    }\n",
       "\n",
       "    .dataframe tbody tr th {\n",
       "        vertical-align: top;\n",
       "    }\n",
       "\n",
       "    .dataframe thead th {\n",
       "        text-align: right;\n",
       "    }\n",
       "</style>\n",
       "<table border=\"1\" class=\"dataframe\">\n",
       "  <thead>\n",
       "    <tr style=\"text-align: right;\">\n",
       "      <th></th>\n",
       "      <th>age</th>\n",
       "      <th>marital_married</th>\n",
       "      <th>marital_single</th>\n",
       "      <th>y_yes</th>\n",
       "    </tr>\n",
       "  </thead>\n",
       "  <tbody>\n",
       "    <tr>\n",
       "      <th>0</th>\n",
       "      <td>58</td>\n",
       "      <td>1</td>\n",
       "      <td>0</td>\n",
       "      <td>0</td>\n",
       "    </tr>\n",
       "    <tr>\n",
       "      <th>1</th>\n",
       "      <td>44</td>\n",
       "      <td>0</td>\n",
       "      <td>1</td>\n",
       "      <td>0</td>\n",
       "    </tr>\n",
       "    <tr>\n",
       "      <th>2</th>\n",
       "      <td>33</td>\n",
       "      <td>1</td>\n",
       "      <td>0</td>\n",
       "      <td>0</td>\n",
       "    </tr>\n",
       "    <tr>\n",
       "      <th>3</th>\n",
       "      <td>47</td>\n",
       "      <td>1</td>\n",
       "      <td>0</td>\n",
       "      <td>0</td>\n",
       "    </tr>\n",
       "    <tr>\n",
       "      <th>4</th>\n",
       "      <td>33</td>\n",
       "      <td>0</td>\n",
       "      <td>1</td>\n",
       "      <td>0</td>\n",
       "    </tr>\n",
       "  </tbody>\n",
       "</table>\n",
       "</div>"
      ],
      "text/plain": [
       "   age  marital_married  marital_single  y_yes\n",
       "0   58                1               0      0\n",
       "1   44                0               1      0\n",
       "2   33                1               0      0\n",
       "3   47                1               0      0\n",
       "4   33                0               1      0"
      ]
     },
     "execution_count": 37,
     "metadata": {},
     "output_type": "execute_result"
    }
   ],
   "source": [
    "bank_dummy.head()"
   ]
  },
  {
   "cell_type": "code",
   "execution_count": 38,
   "id": "7fd2c769",
   "metadata": {},
   "outputs": [],
   "source": [
    "#Identifying the input and output variables\n",
    "Y = bank_dummy[['y_yes']]\n",
    "X = bank_dummy.drop(columns=['y_yes'])"
   ]
  },
  {
   "cell_type": "code",
   "execution_count": 39,
   "id": "7d94b7b7",
   "metadata": {},
   "outputs": [
    {
     "data": {
      "text/plain": [
       "age                0\n",
       "marital_married    0\n",
       "marital_single     0\n",
       "y_yes              0\n",
       "dtype: int64"
      ]
     },
     "execution_count": 39,
     "metadata": {},
     "output_type": "execute_result"
    }
   ],
   "source": [
    "# Lets check the null values\n",
    "\n",
    "# Lets check the null values\n",
    "bank_dummy.isnull().sum()"
   ]
  },
  {
   "cell_type": "code",
   "execution_count": 40,
   "id": "9ad884ad",
   "metadata": {},
   "outputs": [
    {
     "data": {
      "text/plain": [
       "(36168, 9043, 36168, 9043)"
      ]
     },
     "execution_count": 40,
     "metadata": {},
     "output_type": "execute_result"
    }
   ],
   "source": [
    "# split Data into Tranning and test model\n",
    "from sklearn.model_selection import train_test_split\n",
    "X_train, X_test, Y_train, Y_test = train_test_split(X,Y, test_size = 0.2, random_state = 1234)\n",
    "\n",
    "len(X_train), len(X_test), len(Y_train), len(Y_test)\n"
   ]
  },
  {
   "cell_type": "code",
   "execution_count": 42,
   "id": "8365f381",
   "metadata": {},
   "outputs": [
    {
     "name": "stderr",
     "output_type": "stream",
     "text": [
      "C:\\Users\\Pratik\\anaconda3\\lib\\site-packages\\sklearn\\utils\\validation.py:993: DataConversionWarning: A column-vector y was passed when a 1d array was expected. Please change the shape of y to (n_samples, ), for example using ravel().\n",
      "  y = column_or_1d(y, warn=True)\n"
     ]
    },
    {
     "data": {
      "text/plain": [
       "LogisticRegression()"
      ]
     },
     "execution_count": 42,
     "metadata": {},
     "output_type": "execute_result"
    }
   ],
   "source": [
    "# STEP 3: Build the model\n",
    "from sklearn.linear_model import LogisticRegression\n",
    "lr = LogisticRegression()\n",
    "\n",
    "# Fitting the model\n",
    "\n",
    "model1 = lr.fit(X_train, Y_train)\n",
    "\n",
    "model1"
   ]
  },
  {
   "cell_type": "code",
   "execution_count": 43,
   "id": "59dd79e7",
   "metadata": {},
   "outputs": [
    {
     "name": "stdout",
     "output_type": "stream",
     "text": [
      "              precision    recall  f1-score   support\n",
      "\n",
      "           0       0.88      1.00      0.94      7996\n",
      "           1       0.00      0.00      0.00      1047\n",
      "\n",
      "    accuracy                           0.88      9043\n",
      "   macro avg       0.44      0.50      0.47      9043\n",
      "weighted avg       0.78      0.88      0.83      9043\n",
      "\n"
     ]
    },
    {
     "name": "stderr",
     "output_type": "stream",
     "text": [
      "C:\\Users\\Pratik\\anaconda3\\lib\\site-packages\\sklearn\\metrics\\_classification.py:1318: UndefinedMetricWarning: Precision and F-score are ill-defined and being set to 0.0 in labels with no predicted samples. Use `zero_division` parameter to control this behavior.\n",
      "  _warn_prf(average, modifier, msg_start, len(result))\n",
      "C:\\Users\\Pratik\\anaconda3\\lib\\site-packages\\sklearn\\metrics\\_classification.py:1318: UndefinedMetricWarning: Precision and F-score are ill-defined and being set to 0.0 in labels with no predicted samples. Use `zero_division` parameter to control this behavior.\n",
      "  _warn_prf(average, modifier, msg_start, len(result))\n",
      "C:\\Users\\Pratik\\anaconda3\\lib\\site-packages\\sklearn\\metrics\\_classification.py:1318: UndefinedMetricWarning: Precision and F-score are ill-defined and being set to 0.0 in labels with no predicted samples. Use `zero_division` parameter to control this behavior.\n",
      "  _warn_prf(average, modifier, msg_start, len(result))\n"
     ]
    }
   ],
   "source": [
    "# STEP 4: Using this model, I will predict the test cases\n",
    "\n",
    "Y_test['Pred_subscription'] = model1.predict(X_test)\n",
    "\n",
    "# STEP 5: Import the confusion matrix and classification report\n",
    "\n",
    "from sklearn.metrics import confusion_matrix, classification_report\n",
    "\n",
    "print(classification_report(Y_test['y_yes'], Y_test['Pred_subscription']))"
   ]
  },
  {
   "cell_type": "markdown",
   "id": "4b2497ad",
   "metadata": {},
   "source": [
    "The above model with 88% accuracy is a good model if you want to predict that someone will not get term deposite subscription (Which mean for y_yes == 0 its a good model) as f1-Score and recall value for y_yes = 0 is very high. However, the model is not very good if you want to predict that someone will not get term deposite subscription (Which mean for y_yes == 1 its not a good model) as the f1-score, recall both are very low.\n",
    "\n",
    "This has happend bcoz my taining data set have more data points where y_yes == 0 then compare to y_yes == 1."
   ]
  },
  {
   "cell_type": "code",
   "execution_count": 44,
   "id": "793e5d82",
   "metadata": {},
   "outputs": [
    {
     "name": "stdout",
     "output_type": "stream",
     "text": [
      "Count of 1 in orginal Y_train: 4242\n",
      "Count of 0 in orginal Y_train: 31926\n"
     ]
    }
   ],
   "source": [
    "# Lets find the number of data points where target variable (TenYearCHD) is 0- and 1\n",
    "\n",
    "print(\"Count of 1 in orginal Y_train:\", sum(Y_train['y_yes']==1))\n",
    "print(\"Count of 0 in orginal Y_train:\", sum(Y_train['y_yes']==0))"
   ]
  },
  {
   "cell_type": "code",
   "execution_count": 45,
   "id": "29852f25",
   "metadata": {},
   "outputs": [],
   "source": [
    "# Lets balance the data using SMOTE"
   ]
  },
  {
   "cell_type": "code",
   "execution_count": 46,
   "id": "7cf695d6",
   "metadata": {},
   "outputs": [],
   "source": [
    "# Import the library\n",
    "\n",
    "from imblearn.over_sampling import SMOTE\n",
    "\n",
    "# I will balance my training data (X_train and Y_train)"
   ]
  },
  {
   "cell_type": "code",
   "execution_count": 47,
   "id": "99f50cd7",
   "metadata": {},
   "outputs": [],
   "source": [
    "# I will create the SMOTE object\n",
    "\n",
    "sm = SMOTE(random_state=1234)\n",
    "\n",
    "# I will fit this SMOTE Object on X_train and Y_train using a command fit_sample\n",
    "\n",
    "X_train_new, Y_train_new = sm.fit_resample(X_train, Y_train)"
   ]
  },
  {
   "cell_type": "code",
   "execution_count": 49,
   "id": "00d10bf9",
   "metadata": {},
   "outputs": [
    {
     "name": "stdout",
     "output_type": "stream",
     "text": [
      "Count of 1 in orginal Y_train: 31926\n",
      "Count of 0 in orginal Y_train: 31926\n"
     ]
    }
   ],
   "source": [
    "# Lets check if SMOTE worked or not\n",
    "print(\"Count of 1 in orginal Y_train:\", sum(Y_train_new['y_yes']==1))\n",
    "print(\"Count of 0 in orginal Y_train:\", sum(Y_train_new['y_yes']==0))"
   ]
  },
  {
   "cell_type": "code",
   "execution_count": 50,
   "id": "fa46b77a",
   "metadata": {},
   "outputs": [
    {
     "name": "stderr",
     "output_type": "stream",
     "text": [
      "C:\\Users\\Pratik\\anaconda3\\lib\\site-packages\\sklearn\\utils\\validation.py:993: DataConversionWarning: A column-vector y was passed when a 1d array was expected. Please change the shape of y to (n_samples, ), for example using ravel().\n",
      "  y = column_or_1d(y, warn=True)\n"
     ]
    },
    {
     "data": {
      "text/plain": [
       "LogisticRegression()"
      ]
     },
     "execution_count": 50,
     "metadata": {},
     "output_type": "execute_result"
    }
   ],
   "source": [
    "# Lets build the new Logistic Regression model on X_train_new and Y_train_new\n",
    "\n",
    "lr_new = LogisticRegression()\n",
    "\n",
    "# Lets fit the model\n",
    "\n",
    "model_new = lr_new.fit(X_train_new, Y_train_new)\n",
    "\n",
    "model_new"
   ]
  },
  {
   "cell_type": "code",
   "execution_count": 52,
   "id": "cf0dd86d",
   "metadata": {},
   "outputs": [
    {
     "name": "stdout",
     "output_type": "stream",
     "text": [
      "              precision    recall  f1-score   support\n",
      "\n",
      "           0       0.91      0.57      0.70      7996\n",
      "           1       0.15      0.57      0.24      1047\n",
      "\n",
      "    accuracy                           0.57      9043\n",
      "   macro avg       0.53      0.57      0.47      9043\n",
      "weighted avg       0.82      0.57      0.65      9043\n",
      "\n"
     ]
    }
   ],
   "source": [
    "# Lets predict the test cases using this new model\n",
    "\n",
    "Y_test['Pred_subscription_new'] = model_new.predict(X_test)\n",
    "\n",
    "# Print the report\n",
    "\n",
    "print(classification_report(Y_test['y_yes'], Y_test['Pred_subscription_new']))"
   ]
  },
  {
   "cell_type": "markdown",
   "id": "e239d90e",
   "metadata": {},
   "source": [
    "using SMOTE analysis we can see that Precesion and recall value are improved.\n",
    "Specialy Customer those are Having Subscription is term deposite.\n",
    "Previously we could not predict even a single one who are having Subscription in My model.\n",
    "So Model effiecency is overall improved for predicting both."
   ]
  },
  {
   "cell_type": "code",
   "execution_count": 54,
   "id": "ff9138a1",
   "metadata": {},
   "outputs": [
    {
     "data": {
      "text/plain": [
       "array([0], dtype=uint8)"
      ]
     },
     "execution_count": 54,
     "metadata": {},
     "output_type": "execute_result"
    }
   ],
   "source": [
    "# Predict the subscription having age=32,maritial status=Married\n",
    "## Create a validation data\n",
    "val_data = pd.DataFrame({\"age\" : [32],\"marital_married\":[1],\"marital_single\":[0]})\n",
    "\n",
    "#### predict the subscription\n",
    "Predict_subscription = model_new.predict(val_data)\n",
    "\n",
    "Predict_subscription"
   ]
  },
  {
   "cell_type": "code",
   "execution_count": null,
   "id": "b149b887",
   "metadata": {},
   "outputs": [],
   "source": [
    "## output: Customer will not have Term deposite Subscription"
   ]
  },
  {
   "cell_type": "code",
   "execution_count": 55,
   "id": "584f3702",
   "metadata": {},
   "outputs": [
    {
     "data": {
      "text/plain": [
       "array([0], dtype=uint8)"
      ]
     },
     "execution_count": 55,
     "metadata": {},
     "output_type": "execute_result"
    }
   ],
   "source": [
    "# Predict the subscription having age=42,maritial status=Married\n",
    "## Create a validation data\n",
    "val_data_2= pd.DataFrame({\"age\" : [42],\"marital_married\":[1],\"marital_single\":[0]})\n",
    "\n",
    "#### predict the subscription\n",
    "Predict_subscription2 = model_new.predict(val_data_2)\n",
    "\n",
    "Predict_subscription2"
   ]
  },
  {
   "cell_type": "code",
   "execution_count": 69,
   "id": "8c8f82ea",
   "metadata": {},
   "outputs": [],
   "source": [
    "## output: Customer will not have Term deposite Subscription"
   ]
  },
  {
   "cell_type": "code",
   "execution_count": 56,
   "id": "7126b5ac",
   "metadata": {},
   "outputs": [
    {
     "data": {
      "text/plain": [
       "array([1], dtype=uint8)"
      ]
     },
     "execution_count": 56,
     "metadata": {},
     "output_type": "execute_result"
    }
   ],
   "source": [
    "# Predict the subscription having age=55,maritial status=single\n",
    "## Create a validation data\n",
    "val_data_3= pd.DataFrame({\"age\" : [55],\"marital_married\":[0],\"marital_single\":[1]})\n",
    "\n",
    "#### predict the subscription\n",
    "Predict_subscription3 = model_new.predict(val_data_3)\n",
    "\n",
    "Predict_subscription3"
   ]
  },
  {
   "cell_type": "code",
   "execution_count": 67,
   "id": "6c0c807a",
   "metadata": {},
   "outputs": [],
   "source": [
    "## output: Customer will  have Term deposite Subscription"
   ]
  },
  {
   "cell_type": "code",
   "execution_count": 64,
   "id": "2968cafa",
   "metadata": {},
   "outputs": [
    {
     "data": {
      "text/plain": [
       "array([1], dtype=uint8)"
      ]
     },
     "execution_count": 64,
     "metadata": {},
     "output_type": "execute_result"
    }
   ],
   "source": [
    "# Predict the subscription having age=45,maritial status=single\n",
    "## Create a validation data\n",
    "val_data_4= pd.DataFrame({\"age\" : [45],\"marital_married\":[0],\"marital_single\":[1]})\n",
    "\n",
    "#### predict the subscription\n",
    "Predict_subscription4 = model_new.predict(val_data_4)\n",
    "\n",
    "Predict_subscription4"
   ]
  },
  {
   "cell_type": "code",
   "execution_count": 66,
   "id": "0b2ea8a9",
   "metadata": {},
   "outputs": [],
   "source": [
    "## output: Customer will  have Term deposite Subscription"
   ]
  },
  {
   "cell_type": "code",
   "execution_count": 61,
   "id": "c0ac8c38",
   "metadata": {},
   "outputs": [
    {
     "data": {
      "text/plain": [
       "array([0], dtype=uint8)"
      ]
     },
     "execution_count": 61,
     "metadata": {},
     "output_type": "execute_result"
    }
   ],
   "source": [
    "# Predict the subscription having age=28,maritial status=divorced\n",
    "## Create a validation data\n",
    "val_data_5= pd.DataFrame({\"age\" : [28],\"marital_married\":[0],\"marital_single\":[0]})\n",
    "\n",
    "#### predict the subscription\n",
    "Predict_subscription5 = model_new.predict(val_data_5)\n",
    "\n",
    "Predict_subscription5"
   ]
  },
  {
   "cell_type": "code",
   "execution_count": 65,
   "id": "259acb16",
   "metadata": {},
   "outputs": [],
   "source": [
    "## ## output: Customer will not have Term deposite Subscription"
   ]
  },
  {
   "cell_type": "code",
   "execution_count": null,
   "id": "f3ff57ce",
   "metadata": {},
   "outputs": [],
   "source": []
  }
 ],
 "metadata": {
  "kernelspec": {
   "display_name": "Python 3 (ipykernel)",
   "language": "python",
   "name": "python3"
  },
  "language_info": {
   "codemirror_mode": {
    "name": "ipython",
    "version": 3
   },
   "file_extension": ".py",
   "mimetype": "text/x-python",
   "name": "python",
   "nbconvert_exporter": "python",
   "pygments_lexer": "ipython3",
   "version": "3.9.7"
  }
 },
 "nbformat": 4,
 "nbformat_minor": 5
}
