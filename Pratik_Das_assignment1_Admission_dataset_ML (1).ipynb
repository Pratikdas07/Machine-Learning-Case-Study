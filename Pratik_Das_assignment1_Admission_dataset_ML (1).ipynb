{
 "cells": [
  {
   "cell_type": "markdown",
   "id": "5578bc97",
   "metadata": {},
   "source": [
    "## Problem  Statement:1"
   ]
  },
  {
   "cell_type": "code",
   "execution_count": 1,
   "id": "ef193360",
   "metadata": {},
   "outputs": [],
   "source": [
    "import pandas as pd"
   ]
  },
  {
   "cell_type": "code",
   "execution_count": 2,
   "id": "2f53d15e",
   "metadata": {},
   "outputs": [
    {
     "data": {
      "text/html": [
       "<div>\n",
       "<style scoped>\n",
       "    .dataframe tbody tr th:only-of-type {\n",
       "        vertical-align: middle;\n",
       "    }\n",
       "\n",
       "    .dataframe tbody tr th {\n",
       "        vertical-align: top;\n",
       "    }\n",
       "\n",
       "    .dataframe thead th {\n",
       "        text-align: right;\n",
       "    }\n",
       "</style>\n",
       "<table border=\"1\" class=\"dataframe\">\n",
       "  <thead>\n",
       "    <tr style=\"text-align: right;\">\n",
       "      <th></th>\n",
       "      <th>admit</th>\n",
       "      <th>gre</th>\n",
       "      <th>gpa</th>\n",
       "      <th>rank</th>\n",
       "    </tr>\n",
       "  </thead>\n",
       "  <tbody>\n",
       "    <tr>\n",
       "      <th>0</th>\n",
       "      <td>0</td>\n",
       "      <td>380</td>\n",
       "      <td>3.61</td>\n",
       "      <td>3</td>\n",
       "    </tr>\n",
       "    <tr>\n",
       "      <th>1</th>\n",
       "      <td>1</td>\n",
       "      <td>660</td>\n",
       "      <td>3.67</td>\n",
       "      <td>3</td>\n",
       "    </tr>\n",
       "    <tr>\n",
       "      <th>2</th>\n",
       "      <td>1</td>\n",
       "      <td>800</td>\n",
       "      <td>4.00</td>\n",
       "      <td>1</td>\n",
       "    </tr>\n",
       "    <tr>\n",
       "      <th>3</th>\n",
       "      <td>1</td>\n",
       "      <td>640</td>\n",
       "      <td>3.19</td>\n",
       "      <td>4</td>\n",
       "    </tr>\n",
       "    <tr>\n",
       "      <th>4</th>\n",
       "      <td>0</td>\n",
       "      <td>520</td>\n",
       "      <td>2.93</td>\n",
       "      <td>4</td>\n",
       "    </tr>\n",
       "  </tbody>\n",
       "</table>\n",
       "</div>"
      ],
      "text/plain": [
       "   admit  gre   gpa  rank\n",
       "0      0  380  3.61     3\n",
       "1      1  660  3.67     3\n",
       "2      1  800  4.00     1\n",
       "3      1  640  3.19     4\n",
       "4      0  520  2.93     4"
      ]
     },
     "execution_count": 2,
     "metadata": {},
     "output_type": "execute_result"
    }
   ],
   "source": [
    "Admission=pd.read_excel(\"E:\\Data science training\\R AND PYTHON KPMG\\stat and ml\\ASSIGNMENT\\ADMISSION_DATA.xlsx\")\n",
    "Admission.head()"
   ]
  },
  {
   "cell_type": "code",
   "execution_count": 3,
   "id": "fc716e9a",
   "metadata": {},
   "outputs": [
    {
     "data": {
      "text/html": [
       "<div>\n",
       "<style scoped>\n",
       "    .dataframe tbody tr th:only-of-type {\n",
       "        vertical-align: middle;\n",
       "    }\n",
       "\n",
       "    .dataframe tbody tr th {\n",
       "        vertical-align: top;\n",
       "    }\n",
       "\n",
       "    .dataframe thead th {\n",
       "        text-align: right;\n",
       "    }\n",
       "</style>\n",
       "<table border=\"1\" class=\"dataframe\">\n",
       "  <thead>\n",
       "    <tr style=\"text-align: right;\">\n",
       "      <th></th>\n",
       "      <th>admit</th>\n",
       "      <th>gpa</th>\n",
       "    </tr>\n",
       "  </thead>\n",
       "  <tbody>\n",
       "    <tr>\n",
       "      <th>0</th>\n",
       "      <td>0</td>\n",
       "      <td>3.61</td>\n",
       "    </tr>\n",
       "    <tr>\n",
       "      <th>1</th>\n",
       "      <td>1</td>\n",
       "      <td>3.67</td>\n",
       "    </tr>\n",
       "    <tr>\n",
       "      <th>2</th>\n",
       "      <td>1</td>\n",
       "      <td>4.00</td>\n",
       "    </tr>\n",
       "    <tr>\n",
       "      <th>3</th>\n",
       "      <td>1</td>\n",
       "      <td>3.19</td>\n",
       "    </tr>\n",
       "    <tr>\n",
       "      <th>4</th>\n",
       "      <td>0</td>\n",
       "      <td>2.93</td>\n",
       "    </tr>\n",
       "    <tr>\n",
       "      <th>...</th>\n",
       "      <td>...</td>\n",
       "      <td>...</td>\n",
       "    </tr>\n",
       "    <tr>\n",
       "      <th>395</th>\n",
       "      <td>0</td>\n",
       "      <td>4.00</td>\n",
       "    </tr>\n",
       "    <tr>\n",
       "      <th>396</th>\n",
       "      <td>0</td>\n",
       "      <td>3.04</td>\n",
       "    </tr>\n",
       "    <tr>\n",
       "      <th>397</th>\n",
       "      <td>0</td>\n",
       "      <td>2.63</td>\n",
       "    </tr>\n",
       "    <tr>\n",
       "      <th>398</th>\n",
       "      <td>0</td>\n",
       "      <td>3.65</td>\n",
       "    </tr>\n",
       "    <tr>\n",
       "      <th>399</th>\n",
       "      <td>0</td>\n",
       "      <td>3.89</td>\n",
       "    </tr>\n",
       "  </tbody>\n",
       "</table>\n",
       "<p>400 rows × 2 columns</p>\n",
       "</div>"
      ],
      "text/plain": [
       "     admit   gpa\n",
       "0        0  3.61\n",
       "1        1  3.67\n",
       "2        1  4.00\n",
       "3        1  3.19\n",
       "4        0  2.93\n",
       "..     ...   ...\n",
       "395      0  4.00\n",
       "396      0  3.04\n",
       "397      0  2.63\n",
       "398      0  3.65\n",
       "399      0  3.89\n",
       "\n",
       "[400 rows x 2 columns]"
      ]
     },
     "execution_count": 3,
     "metadata": {},
     "output_type": "execute_result"
    }
   ],
   "source": [
    "Admission1=Admission[['admit','gpa']]\n",
    "Admission1"
   ]
  },
  {
   "cell_type": "code",
   "execution_count": 6,
   "id": "3d7b2db7",
   "metadata": {},
   "outputs": [],
   "source": [
    "## Defining the X and Y\n",
    "Y = Admission1[['admit']]\n",
    "\n",
    "X = Admission1[['gpa']]"
   ]
  },
  {
   "cell_type": "code",
   "execution_count": 8,
   "id": "79efd881",
   "metadata": {},
   "outputs": [
    {
     "data": {
      "text/plain": [
       "(320, 80, 320, 80)"
      ]
     },
     "execution_count": 8,
     "metadata": {},
     "output_type": "execute_result"
    }
   ],
   "source": [
    "#For building the model i keep train_data  to 80%\n",
    "#### and for testing i should keep 20% of datapoints \n",
    "\n",
    "from sklearn.model_selection import train_test_split\n",
    "\n",
    "X_train, X_test, Y_train, Y_test = train_test_split(X,Y, train_size = 0.8, random_state = 1234)\n",
    "\n",
    "len(X_train), len(X_test), len(Y_train), len(Y_test)"
   ]
  },
  {
   "cell_type": "code",
   "execution_count": 9,
   "id": "c5a1c5f4",
   "metadata": {},
   "outputs": [
    {
     "data": {
      "text/plain": [
       "LinearRegression()"
      ]
     },
     "execution_count": 9,
     "metadata": {},
     "output_type": "execute_result"
    }
   ],
   "source": [
    "## Define our model object\n",
    "\n",
    "from sklearn.linear_model import LinearRegression\n",
    "\n",
    "slr = LinearRegression()\n",
    "\n",
    "### Fit this model object on our training dataset\n",
    "\n",
    "model = slr.fit(X_train, Y_train)\n",
    "\n",
    "model"
   ]
  },
  {
   "cell_type": "code",
   "execution_count": 10,
   "id": "04a391af",
   "metadata": {},
   "outputs": [
    {
     "name": "stdout",
     "output_type": "stream",
     "text": [
      "[[0.17503163]]\n",
      "[-0.24152309]\n"
     ]
    }
   ],
   "source": [
    "# Y = mX + C\n",
    "\n",
    "#  Find the values of slope, intercept\n",
    "\n",
    "## slope is m, Intercept is C, X is gpa, Y is admit\n",
    "\n",
    "print(model.coef_) # this will give the m value\n",
    "print(model.intercept_) # this will give me the Constant/Intercept value\n"
   ]
  },
  {
   "cell_type": "code",
   "execution_count": 48,
   "id": "95796600",
   "metadata": {},
   "outputs": [
    {
     "name": "stderr",
     "output_type": "stream",
     "text": [
      "C:\\Users\\Pratik\\anaconda3\\lib\\site-packages\\sklearn\\base.py:493: FutureWarning: The feature names should match those that were passed during fit. Starting version 1.2, an error will be raised.\n",
      "Feature names unseen at fit time:\n",
      "- gpa\n",
      "Feature names seen at fit time, yet now missing:\n",
      "- gre\n",
      "\n",
      "  warnings.warn(message, FutureWarning)\n"
     ]
    },
    {
     "data": {
      "text/plain": [
       "-0.801554781018516"
      ]
     },
     "execution_count": 48,
     "metadata": {},
     "output_type": "execute_result"
    }
   ],
   "source": [
    "# Find the R-sq value of my model . \n",
    "\n",
    "r_sq = model.score(X_train,Y_train)\n",
    "r_sq"
   ]
  },
  {
   "cell_type": "markdown",
   "id": "1d0fe8c1",
   "metadata": {},
   "source": [
    "#admit=(0.17503163*gpa) + (-0.24152309)\n",
    "so here one unit increase in gpa means chance of getting admit ={(0.17503163*2)-0.24152309}-{(0.17503163*1)-0.24152309}= 0.17503163\n",
    "\n"
   ]
  },
  {
   "cell_type": "code",
   "execution_count": 22,
   "id": "1049a227",
   "metadata": {},
   "outputs": [
    {
     "data": {
      "text/plain": [
       "0.10854016999999999"
      ]
     },
     "execution_count": 22,
     "metadata": {},
     "output_type": "execute_result"
    }
   ],
   "source": [
    "(0.17503163*2)-0.24152309"
   ]
  },
  {
   "cell_type": "code",
   "execution_count": 24,
   "id": "12940ee3",
   "metadata": {},
   "outputs": [
    {
     "data": {
      "text/plain": [
       "-0.06649146"
      ]
     },
     "execution_count": 24,
     "metadata": {},
     "output_type": "execute_result"
    }
   ],
   "source": [
    "(0.17503163*1)-0.24152309"
   ]
  },
  {
   "cell_type": "code",
   "execution_count": 25,
   "id": "012f93f2",
   "metadata": {},
   "outputs": [
    {
     "data": {
      "text/plain": [
       "0.17503163"
      ]
     },
     "execution_count": 25,
     "metadata": {},
     "output_type": "execute_result"
    }
   ],
   "source": [
    "0.10854016999999999-(-0.06649146)"
   ]
  },
  {
   "cell_type": "code",
   "execution_count": 26,
   "id": "081e227a",
   "metadata": {},
   "outputs": [
    {
     "name": "stdout",
     "output_type": "stream",
     "text": [
      "<class 'pandas.core.frame.DataFrame'>\n",
      "RangeIndex: 400 entries, 0 to 399\n",
      "Data columns (total 4 columns):\n",
      " #   Column  Non-Null Count  Dtype  \n",
      "---  ------  --------------  -----  \n",
      " 0   admit   400 non-null    int64  \n",
      " 1   gre     400 non-null    int64  \n",
      " 2   gpa     400 non-null    float64\n",
      " 3   rank    400 non-null    int64  \n",
      "dtypes: float64(1), int64(3)\n",
      "memory usage: 12.6 KB\n"
     ]
    }
   ],
   "source": [
    "## b)For one unit increase in GRE , the chance of being admitted to graduate school increase by What amount?\n",
    "\n",
    "Admission.info()\n"
   ]
  },
  {
   "cell_type": "code",
   "execution_count": 27,
   "id": "2fa2277b",
   "metadata": {},
   "outputs": [
    {
     "data": {
      "text/html": [
       "<div>\n",
       "<style scoped>\n",
       "    .dataframe tbody tr th:only-of-type {\n",
       "        vertical-align: middle;\n",
       "    }\n",
       "\n",
       "    .dataframe tbody tr th {\n",
       "        vertical-align: top;\n",
       "    }\n",
       "\n",
       "    .dataframe thead th {\n",
       "        text-align: right;\n",
       "    }\n",
       "</style>\n",
       "<table border=\"1\" class=\"dataframe\">\n",
       "  <thead>\n",
       "    <tr style=\"text-align: right;\">\n",
       "      <th></th>\n",
       "      <th>admit</th>\n",
       "      <th>gre</th>\n",
       "    </tr>\n",
       "  </thead>\n",
       "  <tbody>\n",
       "    <tr>\n",
       "      <th>0</th>\n",
       "      <td>0</td>\n",
       "      <td>380</td>\n",
       "    </tr>\n",
       "    <tr>\n",
       "      <th>1</th>\n",
       "      <td>1</td>\n",
       "      <td>660</td>\n",
       "    </tr>\n",
       "    <tr>\n",
       "      <th>2</th>\n",
       "      <td>1</td>\n",
       "      <td>800</td>\n",
       "    </tr>\n",
       "    <tr>\n",
       "      <th>3</th>\n",
       "      <td>1</td>\n",
       "      <td>640</td>\n",
       "    </tr>\n",
       "    <tr>\n",
       "      <th>4</th>\n",
       "      <td>0</td>\n",
       "      <td>520</td>\n",
       "    </tr>\n",
       "  </tbody>\n",
       "</table>\n",
       "</div>"
      ],
      "text/plain": [
       "   admit  gre\n",
       "0      0  380\n",
       "1      1  660\n",
       "2      1  800\n",
       "3      1  640\n",
       "4      0  520"
      ]
     },
     "execution_count": 27,
     "metadata": {},
     "output_type": "execute_result"
    }
   ],
   "source": [
    "Admission2=Admission[['admit','gre']]\n",
    "Admission2.head()"
   ]
  },
  {
   "cell_type": "code",
   "execution_count": 29,
   "id": "ae3902fc",
   "metadata": {},
   "outputs": [],
   "source": [
    "## Defining the X and Y\n",
    "Y1 = Admission2[['admit']]\n",
    "\n",
    "X1 = Admission2[['gre']]"
   ]
  },
  {
   "cell_type": "code",
   "execution_count": 58,
   "id": "da836598",
   "metadata": {},
   "outputs": [
    {
     "data": {
      "text/plain": [
       "(320, 80, 320, 80)"
      ]
     },
     "execution_count": 58,
     "metadata": {},
     "output_type": "execute_result"
    }
   ],
   "source": [
    "\n",
    "#For building the model i keep train_data  to 80%\n",
    "#### and for testing i should keep 20% of datapoints \n",
    "\n",
    "from sklearn.model_selection import train_test_split\n",
    "\n",
    "X1_train, X1_test, Y1_train, Y1_test = train_test_split(X1,Y1, train_size = 0.8, random_state = 1234)\n",
    "\n",
    "len(X1_train), len(X1_test), len(Y1_train), len(Y1_test)"
   ]
  },
  {
   "cell_type": "code",
   "execution_count": 31,
   "id": "8e1a8d61",
   "metadata": {},
   "outputs": [
    {
     "data": {
      "text/plain": [
       "LinearRegression()"
      ]
     },
     "execution_count": 31,
     "metadata": {},
     "output_type": "execute_result"
    }
   ],
   "source": [
    "## Define our model object\n",
    "\n",
    "from sklearn.linear_model import LinearRegression\n",
    "\n",
    "slr1 = LinearRegression()\n",
    "\n",
    "### Fit this model object on our training dataset\n",
    "\n",
    "model1 = slr1.fit(X1_train, Y1_train)\n",
    "\n",
    "model1"
   ]
  },
  {
   "cell_type": "code",
   "execution_count": 57,
   "id": "131e12f3",
   "metadata": {},
   "outputs": [
    {
     "name": "stdout",
     "output_type": "stream",
     "text": [
      "[[0.00072914]]\n",
      "[-0.0772943]\n"
     ]
    },
    {
     "data": {
      "text/plain": [
       "0.03126836704385416"
      ]
     },
     "execution_count": 57,
     "metadata": {},
     "output_type": "execute_result"
    }
   ],
   "source": [
    "# Y = mX + C\n",
    "\n",
    "#  Find the values of slope, intercept\n",
    "\n",
    "## slope is m, Intercept is C, X is gpa, Y is admit\n",
    "\n",
    "print(model1.coef_) # this will give the m value\n",
    "print(model1.intercept_) # this will give me the Constant/Intercept value\n",
    "# Find the R-sq value of my model . \n",
    "\n",
    "r_sq = model1.score(X1_train,Y1_train)\n",
    "r_sq"
   ]
  },
  {
   "cell_type": "markdown",
   "id": "b43b32bd",
   "metadata": {},
   "source": [
    "#admit=(0.00072914*gre) + (-0.0772943)\n",
    "so here one unit increase in gpa means chance of getting admit ={(0.00072914*2) + (-0.0772943)}-{(0.00072914*1) + (-0.0772943)}= 0.0007291400000000031 increased."
   ]
  },
  {
   "cell_type": "code",
   "execution_count": 50,
   "id": "197d51aa",
   "metadata": {},
   "outputs": [
    {
     "data": {
      "text/plain": [
       "-0.07656516"
      ]
     },
     "execution_count": 50,
     "metadata": {},
     "output_type": "execute_result"
    }
   ],
   "source": [
    "(0.00072914*1) + (-0.0772943)"
   ]
  },
  {
   "cell_type": "code",
   "execution_count": 49,
   "id": "6f2f2e21",
   "metadata": {},
   "outputs": [
    {
     "data": {
      "text/plain": [
       "-0.07583601999999999"
      ]
     },
     "execution_count": 49,
     "metadata": {},
     "output_type": "execute_result"
    }
   ],
   "source": [
    "(0.00072914*2) + (-0.0772943)"
   ]
  },
  {
   "cell_type": "code",
   "execution_count": 36,
   "id": "49771588",
   "metadata": {},
   "outputs": [
    {
     "data": {
      "text/plain": [
       "0.0007291400000000031"
      ]
     },
     "execution_count": 36,
     "metadata": {},
     "output_type": "execute_result"
    }
   ],
   "source": [
    "-0.07583601999999999-(-0.07656516)"
   ]
  },
  {
   "cell_type": "code",
   "execution_count": 40,
   "id": "fcb6d825",
   "metadata": {},
   "outputs": [
    {
     "data": {
      "text/html": [
       "<div>\n",
       "<style scoped>\n",
       "    .dataframe tbody tr th:only-of-type {\n",
       "        vertical-align: middle;\n",
       "    }\n",
       "\n",
       "    .dataframe tbody tr th {\n",
       "        vertical-align: top;\n",
       "    }\n",
       "\n",
       "    .dataframe thead th {\n",
       "        text-align: right;\n",
       "    }\n",
       "</style>\n",
       "<table border=\"1\" class=\"dataframe\">\n",
       "  <thead>\n",
       "    <tr style=\"text-align: right;\">\n",
       "      <th></th>\n",
       "      <th>admit</th>\n",
       "      <th>rank</th>\n",
       "    </tr>\n",
       "  </thead>\n",
       "  <tbody>\n",
       "    <tr>\n",
       "      <th>0</th>\n",
       "      <td>0</td>\n",
       "      <td>3</td>\n",
       "    </tr>\n",
       "    <tr>\n",
       "      <th>1</th>\n",
       "      <td>1</td>\n",
       "      <td>3</td>\n",
       "    </tr>\n",
       "    <tr>\n",
       "      <th>2</th>\n",
       "      <td>1</td>\n",
       "      <td>1</td>\n",
       "    </tr>\n",
       "    <tr>\n",
       "      <th>3</th>\n",
       "      <td>1</td>\n",
       "      <td>4</td>\n",
       "    </tr>\n",
       "    <tr>\n",
       "      <th>4</th>\n",
       "      <td>0</td>\n",
       "      <td>4</td>\n",
       "    </tr>\n",
       "  </tbody>\n",
       "</table>\n",
       "</div>"
      ],
      "text/plain": [
       "   admit  rank\n",
       "0      0     3\n",
       "1      1     3\n",
       "2      1     1\n",
       "3      1     4\n",
       "4      0     4"
      ]
     },
     "execution_count": 40,
     "metadata": {},
     "output_type": "execute_result"
    }
   ],
   "source": [
    "#C)Having attended an under graduate institute with  of RANK 2 versus an institution of rank 1 increase the chance af admission \n",
    "## or decerase the chance of an admission or by what ammount?\n",
    "Admission3=Admission[['admit','rank']]\n",
    "Admission3.head()"
   ]
  },
  {
   "cell_type": "code",
   "execution_count": 52,
   "id": "ca7144b6",
   "metadata": {},
   "outputs": [],
   "source": [
    "## Defining the X and Y\n",
    "Y2 = Admission3[['admit']]\n",
    "\n",
    "X2 = Admission3[['rank']]\n"
   ]
  },
  {
   "cell_type": "code",
   "execution_count": 53,
   "id": "4d4cb358",
   "metadata": {},
   "outputs": [
    {
     "data": {
      "text/plain": [
       "(320, 80, 320, 80)"
      ]
     },
     "execution_count": 53,
     "metadata": {},
     "output_type": "execute_result"
    }
   ],
   "source": [
    "\n",
    "#For building the model i keep train_data  to 80%\n",
    "#### and for testing i should keep 20% of datapoints \n",
    "\n",
    "from sklearn.model_selection import train_test_split\n",
    "\n",
    "X2_train, X2_test, Y2_train, Y2_test = train_test_split(X2,Y2, train_size = 0.8, random_state = 1234)\n",
    "\n",
    "len(X2_train), len(X2_test), len(Y2_train), len(Y2_test)"
   ]
  },
  {
   "cell_type": "code",
   "execution_count": 44,
   "id": "65bdd0fd",
   "metadata": {},
   "outputs": [
    {
     "data": {
      "text/plain": [
       "LinearRegression()"
      ]
     },
     "execution_count": 44,
     "metadata": {},
     "output_type": "execute_result"
    }
   ],
   "source": [
    "## Define our model object\n",
    "\n",
    "from sklearn.linear_model import LinearRegression\n",
    "\n",
    "slr2 = LinearRegression()\n",
    "\n",
    "### Fit this model object on our training dataset\n",
    "\n",
    "model2 = slr2.fit(X2_train, Y2_train)\n",
    "\n",
    "model2"
   ]
  },
  {
   "cell_type": "code",
   "execution_count": 59,
   "id": "8d0d3c90",
   "metadata": {},
   "outputs": [
    {
     "name": "stdout",
     "output_type": "stream",
     "text": [
      "[[-0.12442793]]\n",
      "[0.65291854]\n"
     ]
    },
    {
     "data": {
      "text/plain": [
       "0.060019678563658974"
      ]
     },
     "execution_count": 59,
     "metadata": {},
     "output_type": "execute_result"
    }
   ],
   "source": [
    "# Y2 = mX2 + C\n",
    "\n",
    "#  Find the values of slope, intercept\n",
    "\n",
    "## slope is m, Intercept is C, X2 is rank, Y2 is admit\n",
    "\n",
    "print(model2.coef_) # this will give the m value\n",
    "print(model2.intercept_) # this will give me the Constant/Intercept value\n",
    "# Find the R-sq value of my model . \n",
    "\n",
    "r_sq2 = model2.score(X2_train,Y2_train)\n",
    "r_sq2"
   ]
  },
  {
   "cell_type": "markdown",
   "id": "8908cd71",
   "metadata": {},
   "source": [
    "admit =( -0.12442793*rank) + 0.65291854\n",
    "Chance of Getting admit Rank 2 vs Rank 1:\n",
    "chance of getting admit ={( -0.12442793*2) + 0.65291854}-{( -0.12442793*rank) + 0.65291854)=-0.12442793000000008\n",
    "So here We can see that chance of getting admit to an under graduate institution are Decreased by 0.12442793"
   ]
  },
  {
   "cell_type": "code",
   "execution_count": 63,
   "id": "43e367c9",
   "metadata": {},
   "outputs": [],
   "source": [
    "Rank2=( -0.12442793*2) + 0.65291854"
   ]
  },
  {
   "cell_type": "code",
   "execution_count": 64,
   "id": "f6eb675c",
   "metadata": {},
   "outputs": [],
   "source": [
    "Rank1=( -0.12442793*1) + 0.65291854"
   ]
  },
  {
   "cell_type": "code",
   "execution_count": 66,
   "id": "25e6b14e",
   "metadata": {},
   "outputs": [
    {
     "data": {
      "text/plain": [
       "-0.12442793000000008"
      ]
     },
     "execution_count": 66,
     "metadata": {},
     "output_type": "execute_result"
    }
   ],
   "source": [
    "Chance_value=Rank2-Rank1\n",
    "Chance_value\n"
   ]
  },
  {
   "cell_type": "code",
   "execution_count": null,
   "id": "ae30c118",
   "metadata": {},
   "outputs": [],
   "source": [
    "## question D:using your model if a candidate with Rank=3, GRE=180 and Gpa =2.1 wii get admission or not? \n"
   ]
  },
  {
   "cell_type": "code",
   "execution_count": 67,
   "id": "bd4076a8",
   "metadata": {},
   "outputs": [
    {
     "data": {
      "text/html": [
       "<div>\n",
       "<style scoped>\n",
       "    .dataframe tbody tr th:only-of-type {\n",
       "        vertical-align: middle;\n",
       "    }\n",
       "\n",
       "    .dataframe tbody tr th {\n",
       "        vertical-align: top;\n",
       "    }\n",
       "\n",
       "    .dataframe thead th {\n",
       "        text-align: right;\n",
       "    }\n",
       "</style>\n",
       "<table border=\"1\" class=\"dataframe\">\n",
       "  <thead>\n",
       "    <tr style=\"text-align: right;\">\n",
       "      <th></th>\n",
       "      <th>admit</th>\n",
       "      <th>gre</th>\n",
       "      <th>gpa</th>\n",
       "      <th>rank</th>\n",
       "    </tr>\n",
       "  </thead>\n",
       "  <tbody>\n",
       "    <tr>\n",
       "      <th>0</th>\n",
       "      <td>0</td>\n",
       "      <td>380</td>\n",
       "      <td>3.61</td>\n",
       "      <td>3</td>\n",
       "    </tr>\n",
       "    <tr>\n",
       "      <th>1</th>\n",
       "      <td>1</td>\n",
       "      <td>660</td>\n",
       "      <td>3.67</td>\n",
       "      <td>3</td>\n",
       "    </tr>\n",
       "    <tr>\n",
       "      <th>2</th>\n",
       "      <td>1</td>\n",
       "      <td>800</td>\n",
       "      <td>4.00</td>\n",
       "      <td>1</td>\n",
       "    </tr>\n",
       "    <tr>\n",
       "      <th>3</th>\n",
       "      <td>1</td>\n",
       "      <td>640</td>\n",
       "      <td>3.19</td>\n",
       "      <td>4</td>\n",
       "    </tr>\n",
       "    <tr>\n",
       "      <th>4</th>\n",
       "      <td>0</td>\n",
       "      <td>520</td>\n",
       "      <td>2.93</td>\n",
       "      <td>4</td>\n",
       "    </tr>\n",
       "  </tbody>\n",
       "</table>\n",
       "</div>"
      ],
      "text/plain": [
       "   admit  gre   gpa  rank\n",
       "0      0  380  3.61     3\n",
       "1      1  660  3.67     3\n",
       "2      1  800  4.00     1\n",
       "3      1  640  3.19     4\n",
       "4      0  520  2.93     4"
      ]
     },
     "execution_count": 67,
     "metadata": {},
     "output_type": "execute_result"
    }
   ],
   "source": [
    "Admission.head()"
   ]
  },
  {
   "cell_type": "code",
   "execution_count": 88,
   "id": "b114a16d",
   "metadata": {},
   "outputs": [],
   "source": [
    "## Defining the X and Y\n",
    "Y4 = Admission[['admit']]\n",
    "\n",
    "X4 = Admission[['gre','gpa','rank']]"
   ]
  },
  {
   "cell_type": "code",
   "execution_count": 89,
   "id": "31919c14",
   "metadata": {},
   "outputs": [
    {
     "data": {
      "text/plain": [
       "(320, 80, 320, 80)"
      ]
     },
     "execution_count": 89,
     "metadata": {},
     "output_type": "execute_result"
    }
   ],
   "source": [
    "\n",
    "#For building the model i keep train_data  to 80%\n",
    "#### and for testing i should keep 20% of datapoints \n",
    "\n",
    "from sklearn.model_selection import train_test_split\n",
    "\n",
    "X4_train, X4_test, Y4_train, Y4_test = train_test_split(X4,Y4, train_size = 0.8, random_state = 1234)\n",
    "\n",
    "len(X4_train), len(X4_test), len(Y4_train), len(Y4_test)"
   ]
  },
  {
   "cell_type": "code",
   "execution_count": 90,
   "id": "af38a070",
   "metadata": {},
   "outputs": [
    {
     "data": {
      "text/plain": [
       "LogisticRegression()"
      ]
     },
     "execution_count": 90,
     "metadata": {},
     "output_type": "execute_result"
    }
   ],
   "source": [
    "# Build our model on training data... this is a two step process\n",
    "\n",
    "# create a model object\n",
    "\n",
    "from sklearn.linear_model import LogisticRegression\n",
    "\n",
    "LR = LogisticRegression()\n",
    "\n",
    "# fit the model object on training data for building the model \n",
    "\n",
    "model_lr = LR.fit(X4_train, Y4_train)\n",
    "\n",
    "model_lr"
   ]
  },
  {
   "cell_type": "code",
   "execution_count": 92,
   "id": "20b0c3da",
   "metadata": {},
   "outputs": [],
   "source": [
    "Y4_test['Pred_admit'] = model_lr.predict(X4_test)"
   ]
  },
  {
   "cell_type": "code",
   "execution_count": 93,
   "id": "e461f96c",
   "metadata": {},
   "outputs": [
    {
     "data": {
      "text/html": [
       "<div>\n",
       "<style scoped>\n",
       "    .dataframe tbody tr th:only-of-type {\n",
       "        vertical-align: middle;\n",
       "    }\n",
       "\n",
       "    .dataframe tbody tr th {\n",
       "        vertical-align: top;\n",
       "    }\n",
       "\n",
       "    .dataframe thead th {\n",
       "        text-align: right;\n",
       "    }\n",
       "</style>\n",
       "<table border=\"1\" class=\"dataframe\">\n",
       "  <thead>\n",
       "    <tr style=\"text-align: right;\">\n",
       "      <th></th>\n",
       "      <th>admit</th>\n",
       "      <th>Pred_admit</th>\n",
       "    </tr>\n",
       "  </thead>\n",
       "  <tbody>\n",
       "    <tr>\n",
       "      <th>44</th>\n",
       "      <td>0</td>\n",
       "      <td>0</td>\n",
       "    </tr>\n",
       "    <tr>\n",
       "      <th>110</th>\n",
       "      <td>0</td>\n",
       "      <td>0</td>\n",
       "    </tr>\n",
       "    <tr>\n",
       "      <th>78</th>\n",
       "      <td>0</td>\n",
       "      <td>0</td>\n",
       "    </tr>\n",
       "    <tr>\n",
       "      <th>181</th>\n",
       "      <td>0</td>\n",
       "      <td>0</td>\n",
       "    </tr>\n",
       "    <tr>\n",
       "      <th>285</th>\n",
       "      <td>0</td>\n",
       "      <td>0</td>\n",
       "    </tr>\n",
       "    <tr>\n",
       "      <th>...</th>\n",
       "      <td>...</td>\n",
       "      <td>...</td>\n",
       "    </tr>\n",
       "    <tr>\n",
       "      <th>299</th>\n",
       "      <td>0</td>\n",
       "      <td>0</td>\n",
       "    </tr>\n",
       "    <tr>\n",
       "      <th>55</th>\n",
       "      <td>1</td>\n",
       "      <td>0</td>\n",
       "    </tr>\n",
       "    <tr>\n",
       "      <th>129</th>\n",
       "      <td>0</td>\n",
       "      <td>0</td>\n",
       "    </tr>\n",
       "    <tr>\n",
       "      <th>153</th>\n",
       "      <td>0</td>\n",
       "      <td>0</td>\n",
       "    </tr>\n",
       "    <tr>\n",
       "      <th>90</th>\n",
       "      <td>0</td>\n",
       "      <td>1</td>\n",
       "    </tr>\n",
       "  </tbody>\n",
       "</table>\n",
       "<p>80 rows × 2 columns</p>\n",
       "</div>"
      ],
      "text/plain": [
       "     admit  Pred_admit\n",
       "44       0           0\n",
       "110      0           0\n",
       "78       0           0\n",
       "181      0           0\n",
       "285      0           0\n",
       "..     ...         ...\n",
       "299      0           0\n",
       "55       1           0\n",
       "129      0           0\n",
       "153      0           0\n",
       "90       0           1\n",
       "\n",
       "[80 rows x 2 columns]"
      ]
     },
     "execution_count": 93,
     "metadata": {},
     "output_type": "execute_result"
    }
   ],
   "source": [
    "Y4_test"
   ]
  },
  {
   "cell_type": "code",
   "execution_count": 98,
   "id": "fb57bb6d",
   "metadata": {},
   "outputs": [
    {
     "data": {
      "text/plain": [
       "array([0], dtype=int64)"
      ]
     },
     "execution_count": 98,
     "metadata": {},
     "output_type": "execute_result"
    }
   ],
   "source": [
    "## Create a validation data\n",
    "val_data = pd.DataFrame({\"gre\" : [180],\"gpa\" : [2.1],\"rank\" : [3]})\n",
    "\n",
    "#### predict the Admit offered\n",
    "Predict_admit = model_lr.predict(val_data)\n",
    "\n",
    "Predict_admit"
   ]
  },
  {
   "cell_type": "code",
   "execution_count": 99,
   "id": "84d461cc",
   "metadata": {},
   "outputs": [],
   "source": [
    "## using My Model,I can conclude that candidate with rank 3, GRE =180, Gpa=2.1 will not get admission "
   ]
  },
  {
   "cell_type": "code",
   "execution_count": null,
   "id": "d571ccb5",
   "metadata": {},
   "outputs": [],
   "source": []
  },
  {
   "cell_type": "markdown",
   "id": "fc6a6c85",
   "metadata": {},
   "source": []
  },
  {
   "cell_type": "code",
   "execution_count": null,
   "id": "12d907df",
   "metadata": {},
   "outputs": [],
   "source": []
  }
 ],
 "metadata": {
  "kernelspec": {
   "display_name": "Python 3 (ipykernel)",
   "language": "python",
   "name": "python3"
  },
  "language_info": {
   "codemirror_mode": {
    "name": "ipython",
    "version": 3
   },
   "file_extension": ".py",
   "mimetype": "text/x-python",
   "name": "python",
   "nbconvert_exporter": "python",
   "pygments_lexer": "ipython3",
   "version": "3.9.7"
  }
 },
 "nbformat": 4,
 "nbformat_minor": 5
}
