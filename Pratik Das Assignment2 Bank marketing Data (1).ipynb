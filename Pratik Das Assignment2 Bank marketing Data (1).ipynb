{
 "cells": [
  {
   "cell_type": "code",
   "execution_count": 1,
   "id": "0415a752",
   "metadata": {},
   "outputs": [],
   "source": [
    "import pandas as pd"
   ]
  },
  {
   "cell_type": "code",
   "execution_count": 2,
   "id": "53463d97",
   "metadata": {},
   "outputs": [
    {
     "data": {
      "text/html": [
       "<div>\n",
       "<style scoped>\n",
       "    .dataframe tbody tr th:only-of-type {\n",
       "        vertical-align: middle;\n",
       "    }\n",
       "\n",
       "    .dataframe tbody tr th {\n",
       "        vertical-align: top;\n",
       "    }\n",
       "\n",
       "    .dataframe thead th {\n",
       "        text-align: right;\n",
       "    }\n",
       "</style>\n",
       "<table border=\"1\" class=\"dataframe\">\n",
       "  <thead>\n",
       "    <tr style=\"text-align: right;\">\n",
       "      <th></th>\n",
       "      <th>Age</th>\n",
       "      <th>Job</th>\n",
       "      <th>Marital Status</th>\n",
       "      <th>Account Balance</th>\n",
       "      <th>Own House</th>\n",
       "      <th>Personal Loan</th>\n",
       "      <th>No of campaigns</th>\n",
       "      <th>Subscription</th>\n",
       "    </tr>\n",
       "  </thead>\n",
       "  <tbody>\n",
       "    <tr>\n",
       "      <th>0</th>\n",
       "      <td>59</td>\n",
       "      <td>unemployed</td>\n",
       "      <td>married</td>\n",
       "      <td>0</td>\n",
       "      <td>0</td>\n",
       "      <td>0</td>\n",
       "      <td>0</td>\n",
       "      <td>0</td>\n",
       "    </tr>\n",
       "    <tr>\n",
       "      <th>1</th>\n",
       "      <td>36</td>\n",
       "      <td>Others</td>\n",
       "      <td>married</td>\n",
       "      <td>3057</td>\n",
       "      <td>0</td>\n",
       "      <td>0</td>\n",
       "      <td>0</td>\n",
       "      <td>1</td>\n",
       "    </tr>\n",
       "    <tr>\n",
       "      <th>2</th>\n",
       "      <td>47</td>\n",
       "      <td>blue-collar</td>\n",
       "      <td>divorced</td>\n",
       "      <td>126</td>\n",
       "      <td>1</td>\n",
       "      <td>0</td>\n",
       "      <td>0</td>\n",
       "      <td>1</td>\n",
       "    </tr>\n",
       "    <tr>\n",
       "      <th>3</th>\n",
       "      <td>43</td>\n",
       "      <td>management</td>\n",
       "      <td>divorced</td>\n",
       "      <td>388</td>\n",
       "      <td>1</td>\n",
       "      <td>0</td>\n",
       "      <td>0</td>\n",
       "      <td>1</td>\n",
       "    </tr>\n",
       "    <tr>\n",
       "      <th>4</th>\n",
       "      <td>34</td>\n",
       "      <td>self-employed</td>\n",
       "      <td>single</td>\n",
       "      <td>462</td>\n",
       "      <td>0</td>\n",
       "      <td>0</td>\n",
       "      <td>0</td>\n",
       "      <td>1</td>\n",
       "    </tr>\n",
       "  </tbody>\n",
       "</table>\n",
       "</div>"
      ],
      "text/plain": [
       "   Age            Job Marital Status  Account Balance  Own House  \\\n",
       "0   59     unemployed        married                0          0   \n",
       "1   36         Others        married             3057          0   \n",
       "2   47    blue-collar       divorced              126          1   \n",
       "3   43     management       divorced              388          1   \n",
       "4   34  self-employed         single              462          0   \n",
       "\n",
       "   Personal Loan  No of campaigns  Subscription  \n",
       "0              0                0             0  \n",
       "1              0                0             1  \n",
       "2              0                0             1  \n",
       "3              0                0             1  \n",
       "4              0                0             1  "
      ]
     },
     "execution_count": 2,
     "metadata": {},
     "output_type": "execute_result"
    }
   ],
   "source": [
    "Bank=pd.read_excel(\"E:\\Data science training\\R AND PYTHON KPMG\\stat and ml\\ASSIGNMENT\\Bank Marketing.xlsx\")\n",
    "Bank.head()"
   ]
  },
  {
   "cell_type": "code",
   "execution_count": 3,
   "id": "530db2c6",
   "metadata": {},
   "outputs": [
    {
     "name": "stdout",
     "output_type": "stream",
     "text": [
      "<class 'pandas.core.frame.DataFrame'>\n",
      "RangeIndex: 4521 entries, 0 to 4520\n",
      "Data columns (total 8 columns):\n",
      " #   Column           Non-Null Count  Dtype \n",
      "---  ------           --------------  ----- \n",
      " 0   Age              4521 non-null   int64 \n",
      " 1   Job              4521 non-null   object\n",
      " 2   Marital Status   4521 non-null   object\n",
      " 3   Account Balance  4521 non-null   int64 \n",
      " 4   Own House        4521 non-null   int64 \n",
      " 5   Personal Loan    4521 non-null   int64 \n",
      " 6   No of campaigns  4521 non-null   int64 \n",
      " 7   Subscription     4521 non-null   int64 \n",
      "dtypes: int64(6), object(2)\n",
      "memory usage: 282.7+ KB\n"
     ]
    }
   ],
   "source": [
    "Bank.info()"
   ]
  },
  {
   "cell_type": "code",
   "execution_count": 4,
   "id": "4a4a99a1",
   "metadata": {},
   "outputs": [
    {
     "data": {
      "text/plain": [
       "Age                0\n",
       "Job                0\n",
       "Marital Status     0\n",
       "Account Balance    0\n",
       "Own House          0\n",
       "Personal Loan      0\n",
       "No of campaigns    0\n",
       "Subscription       0\n",
       "dtype: int64"
      ]
     },
     "execution_count": 4,
     "metadata": {},
     "output_type": "execute_result"
    }
   ],
   "source": [
    "Bank.isnull().sum()"
   ]
  },
  {
   "cell_type": "code",
   "execution_count": 5,
   "id": "b93063bf",
   "metadata": {},
   "outputs": [],
   "source": [
    "cat_col = ['Job','Marital Status']"
   ]
  },
  {
   "cell_type": "code",
   "execution_count": 6,
   "id": "7d52c187",
   "metadata": {},
   "outputs": [],
   "source": [
    "Bank_dummy = pd.get_dummies(Bank,columns=cat_col,drop_first=True)"
   ]
  },
  {
   "cell_type": "code",
   "execution_count": 7,
   "id": "5dbe68ca",
   "metadata": {},
   "outputs": [
    {
     "data": {
      "text/plain": [
       "(4521, 12)"
      ]
     },
     "execution_count": 7,
     "metadata": {},
     "output_type": "execute_result"
    }
   ],
   "source": [
    "Bank_dummy.shape"
   ]
  },
  {
   "cell_type": "code",
   "execution_count": 8,
   "id": "31a57491",
   "metadata": {},
   "outputs": [
    {
     "data": {
      "text/html": [
       "<div>\n",
       "<style scoped>\n",
       "    .dataframe tbody tr th:only-of-type {\n",
       "        vertical-align: middle;\n",
       "    }\n",
       "\n",
       "    .dataframe tbody tr th {\n",
       "        vertical-align: top;\n",
       "    }\n",
       "\n",
       "    .dataframe thead th {\n",
       "        text-align: right;\n",
       "    }\n",
       "</style>\n",
       "<table border=\"1\" class=\"dataframe\">\n",
       "  <thead>\n",
       "    <tr style=\"text-align: right;\">\n",
       "      <th></th>\n",
       "      <th>Age</th>\n",
       "      <th>Account Balance</th>\n",
       "      <th>Own House</th>\n",
       "      <th>Personal Loan</th>\n",
       "      <th>No of campaigns</th>\n",
       "      <th>Subscription</th>\n",
       "      <th>Job_blue-collar</th>\n",
       "      <th>Job_management</th>\n",
       "      <th>Job_self-employed</th>\n",
       "      <th>Job_unemployed</th>\n",
       "      <th>Marital Status_married</th>\n",
       "      <th>Marital Status_single</th>\n",
       "    </tr>\n",
       "  </thead>\n",
       "  <tbody>\n",
       "    <tr>\n",
       "      <th>0</th>\n",
       "      <td>59</td>\n",
       "      <td>0</td>\n",
       "      <td>0</td>\n",
       "      <td>0</td>\n",
       "      <td>0</td>\n",
       "      <td>0</td>\n",
       "      <td>0</td>\n",
       "      <td>0</td>\n",
       "      <td>0</td>\n",
       "      <td>1</td>\n",
       "      <td>1</td>\n",
       "      <td>0</td>\n",
       "    </tr>\n",
       "    <tr>\n",
       "      <th>1</th>\n",
       "      <td>36</td>\n",
       "      <td>3057</td>\n",
       "      <td>0</td>\n",
       "      <td>0</td>\n",
       "      <td>0</td>\n",
       "      <td>1</td>\n",
       "      <td>0</td>\n",
       "      <td>0</td>\n",
       "      <td>0</td>\n",
       "      <td>0</td>\n",
       "      <td>1</td>\n",
       "      <td>0</td>\n",
       "    </tr>\n",
       "    <tr>\n",
       "      <th>2</th>\n",
       "      <td>47</td>\n",
       "      <td>126</td>\n",
       "      <td>1</td>\n",
       "      <td>0</td>\n",
       "      <td>0</td>\n",
       "      <td>1</td>\n",
       "      <td>1</td>\n",
       "      <td>0</td>\n",
       "      <td>0</td>\n",
       "      <td>0</td>\n",
       "      <td>0</td>\n",
       "      <td>0</td>\n",
       "    </tr>\n",
       "    <tr>\n",
       "      <th>3</th>\n",
       "      <td>43</td>\n",
       "      <td>388</td>\n",
       "      <td>1</td>\n",
       "      <td>0</td>\n",
       "      <td>0</td>\n",
       "      <td>1</td>\n",
       "      <td>0</td>\n",
       "      <td>1</td>\n",
       "      <td>0</td>\n",
       "      <td>0</td>\n",
       "      <td>0</td>\n",
       "      <td>0</td>\n",
       "    </tr>\n",
       "    <tr>\n",
       "      <th>4</th>\n",
       "      <td>34</td>\n",
       "      <td>462</td>\n",
       "      <td>0</td>\n",
       "      <td>0</td>\n",
       "      <td>0</td>\n",
       "      <td>1</td>\n",
       "      <td>0</td>\n",
       "      <td>0</td>\n",
       "      <td>1</td>\n",
       "      <td>0</td>\n",
       "      <td>0</td>\n",
       "      <td>1</td>\n",
       "    </tr>\n",
       "  </tbody>\n",
       "</table>\n",
       "</div>"
      ],
      "text/plain": [
       "   Age  Account Balance  Own House  Personal Loan  No of campaigns  \\\n",
       "0   59                0          0              0                0   \n",
       "1   36             3057          0              0                0   \n",
       "2   47              126          1              0                0   \n",
       "3   43              388          1              0                0   \n",
       "4   34              462          0              0                0   \n",
       "\n",
       "   Subscription  Job_blue-collar  Job_management  Job_self-employed  \\\n",
       "0             0                0               0                  0   \n",
       "1             1                0               0                  0   \n",
       "2             1                1               0                  0   \n",
       "3             1                0               1                  0   \n",
       "4             1                0               0                  1   \n",
       "\n",
       "   Job_unemployed  Marital Status_married  Marital Status_single  \n",
       "0               1                       1                      0  \n",
       "1               0                       1                      0  \n",
       "2               0                       0                      0  \n",
       "3               0                       0                      0  \n",
       "4               0                       0                      1  "
      ]
     },
     "execution_count": 8,
     "metadata": {},
     "output_type": "execute_result"
    }
   ],
   "source": [
    "Bank_dummy.head()"
   ]
  },
  {
   "cell_type": "code",
   "execution_count": 9,
   "id": "0e4e5c70",
   "metadata": {},
   "outputs": [],
   "source": [
    "#Identifying the input and output variables\n",
    "Y = Bank_dummy[['Subscription']]\n",
    "X = Bank_dummy.drop(columns=['Subscription'])"
   ]
  },
  {
   "cell_type": "code",
   "execution_count": 10,
   "id": "f2a6ce38",
   "metadata": {},
   "outputs": [
    {
     "data": {
      "text/html": [
       "<div>\n",
       "<style scoped>\n",
       "    .dataframe tbody tr th:only-of-type {\n",
       "        vertical-align: middle;\n",
       "    }\n",
       "\n",
       "    .dataframe tbody tr th {\n",
       "        vertical-align: top;\n",
       "    }\n",
       "\n",
       "    .dataframe thead th {\n",
       "        text-align: right;\n",
       "    }\n",
       "</style>\n",
       "<table border=\"1\" class=\"dataframe\">\n",
       "  <thead>\n",
       "    <tr style=\"text-align: right;\">\n",
       "      <th></th>\n",
       "      <th>Age</th>\n",
       "      <th>Account Balance</th>\n",
       "      <th>Own House</th>\n",
       "      <th>Personal Loan</th>\n",
       "      <th>No of campaigns</th>\n",
       "      <th>Job_blue-collar</th>\n",
       "      <th>Job_management</th>\n",
       "      <th>Job_self-employed</th>\n",
       "      <th>Job_unemployed</th>\n",
       "      <th>Marital Status_married</th>\n",
       "      <th>Marital Status_single</th>\n",
       "    </tr>\n",
       "  </thead>\n",
       "  <tbody>\n",
       "    <tr>\n",
       "      <th>0</th>\n",
       "      <td>59</td>\n",
       "      <td>0</td>\n",
       "      <td>0</td>\n",
       "      <td>0</td>\n",
       "      <td>0</td>\n",
       "      <td>0</td>\n",
       "      <td>0</td>\n",
       "      <td>0</td>\n",
       "      <td>1</td>\n",
       "      <td>1</td>\n",
       "      <td>0</td>\n",
       "    </tr>\n",
       "    <tr>\n",
       "      <th>1</th>\n",
       "      <td>36</td>\n",
       "      <td>3057</td>\n",
       "      <td>0</td>\n",
       "      <td>0</td>\n",
       "      <td>0</td>\n",
       "      <td>0</td>\n",
       "      <td>0</td>\n",
       "      <td>0</td>\n",
       "      <td>0</td>\n",
       "      <td>1</td>\n",
       "      <td>0</td>\n",
       "    </tr>\n",
       "    <tr>\n",
       "      <th>2</th>\n",
       "      <td>47</td>\n",
       "      <td>126</td>\n",
       "      <td>1</td>\n",
       "      <td>0</td>\n",
       "      <td>0</td>\n",
       "      <td>1</td>\n",
       "      <td>0</td>\n",
       "      <td>0</td>\n",
       "      <td>0</td>\n",
       "      <td>0</td>\n",
       "      <td>0</td>\n",
       "    </tr>\n",
       "    <tr>\n",
       "      <th>3</th>\n",
       "      <td>43</td>\n",
       "      <td>388</td>\n",
       "      <td>1</td>\n",
       "      <td>0</td>\n",
       "      <td>0</td>\n",
       "      <td>0</td>\n",
       "      <td>1</td>\n",
       "      <td>0</td>\n",
       "      <td>0</td>\n",
       "      <td>0</td>\n",
       "      <td>0</td>\n",
       "    </tr>\n",
       "    <tr>\n",
       "      <th>4</th>\n",
       "      <td>34</td>\n",
       "      <td>462</td>\n",
       "      <td>0</td>\n",
       "      <td>0</td>\n",
       "      <td>0</td>\n",
       "      <td>0</td>\n",
       "      <td>0</td>\n",
       "      <td>1</td>\n",
       "      <td>0</td>\n",
       "      <td>0</td>\n",
       "      <td>1</td>\n",
       "    </tr>\n",
       "  </tbody>\n",
       "</table>\n",
       "</div>"
      ],
      "text/plain": [
       "   Age  Account Balance  Own House  Personal Loan  No of campaigns  \\\n",
       "0   59                0          0              0                0   \n",
       "1   36             3057          0              0                0   \n",
       "2   47              126          1              0                0   \n",
       "3   43              388          1              0                0   \n",
       "4   34              462          0              0                0   \n",
       "\n",
       "   Job_blue-collar  Job_management  Job_self-employed  Job_unemployed  \\\n",
       "0                0               0                  0               1   \n",
       "1                0               0                  0               0   \n",
       "2                1               0                  0               0   \n",
       "3                0               1                  0               0   \n",
       "4                0               0                  1               0   \n",
       "\n",
       "   Marital Status_married  Marital Status_single  \n",
       "0                       1                      0  \n",
       "1                       1                      0  \n",
       "2                       0                      0  \n",
       "3                       0                      0  \n",
       "4                       0                      1  "
      ]
     },
     "execution_count": 10,
     "metadata": {},
     "output_type": "execute_result"
    }
   ],
   "source": [
    "X.head()"
   ]
  },
  {
   "cell_type": "code",
   "execution_count": 11,
   "id": "ec166929",
   "metadata": {},
   "outputs": [
    {
     "data": {
      "text/plain": [
       "(3616, 905, 3616, 905)"
      ]
     },
     "execution_count": 11,
     "metadata": {},
     "output_type": "execute_result"
    }
   ],
   "source": [
    "##Spillting the data into train and test\n",
    "\n",
    "from sklearn.model_selection import train_test_split\n",
    "x_train,x_test,y_train,y_test = train_test_split(X,Y,test_size=0.2,random_state=42)\n",
    "len(x_train),len(x_test),len(y_train),len(y_test)"
   ]
  },
  {
   "cell_type": "markdown",
   "id": "eeec28e2",
   "metadata": {},
   "source": [
    "Building the Random Forest model:"
   ]
  },
  {
   "cell_type": "code",
   "execution_count": 12,
   "id": "ce5bf53a",
   "metadata": {},
   "outputs": [
    {
     "name": "stderr",
     "output_type": "stream",
     "text": [
      "C:\\Users\\Pratik\\AppData\\Local\\Temp/ipykernel_5368/3858015865.py:3: DataConversionWarning: A column-vector y was passed when a 1d array was expected. Please change the shape of y to (n_samples,), for example using ravel().\n",
      "  rf = model.fit(x_train,y_train)\n"
     ]
    },
    {
     "name": "stdout",
     "output_type": "stream",
     "text": [
      "The model has been built successfully!! yeah\n"
     ]
    }
   ],
   "source": [
    "from sklearn.ensemble import RandomForestClassifier\n",
    "model = RandomForestClassifier(n_estimators=1000,random_state=42)\n",
    "rf = model.fit(x_train,y_train)\n",
    "print('The model has been built successfully!! yeah')"
   ]
  },
  {
   "cell_type": "code",
   "execution_count": 13,
   "id": "b3f4c6f4",
   "metadata": {},
   "outputs": [
    {
     "data": {
      "text/html": [
       "<div>\n",
       "<style scoped>\n",
       "    .dataframe tbody tr th:only-of-type {\n",
       "        vertical-align: middle;\n",
       "    }\n",
       "\n",
       "    .dataframe tbody tr th {\n",
       "        vertical-align: top;\n",
       "    }\n",
       "\n",
       "    .dataframe thead th {\n",
       "        text-align: right;\n",
       "    }\n",
       "</style>\n",
       "<table border=\"1\" class=\"dataframe\">\n",
       "  <thead>\n",
       "    <tr style=\"text-align: right;\">\n",
       "      <th></th>\n",
       "      <th>Subscription</th>\n",
       "    </tr>\n",
       "  </thead>\n",
       "  <tbody>\n",
       "    <tr>\n",
       "      <th>2398</th>\n",
       "      <td>0</td>\n",
       "    </tr>\n",
       "    <tr>\n",
       "      <th>800</th>\n",
       "      <td>0</td>\n",
       "    </tr>\n",
       "    <tr>\n",
       "      <th>2288</th>\n",
       "      <td>0</td>\n",
       "    </tr>\n",
       "    <tr>\n",
       "      <th>2344</th>\n",
       "      <td>0</td>\n",
       "    </tr>\n",
       "    <tr>\n",
       "      <th>3615</th>\n",
       "      <td>0</td>\n",
       "    </tr>\n",
       "    <tr>\n",
       "      <th>...</th>\n",
       "      <td>...</td>\n",
       "    </tr>\n",
       "    <tr>\n",
       "      <th>3589</th>\n",
       "      <td>0</td>\n",
       "    </tr>\n",
       "    <tr>\n",
       "      <th>3128</th>\n",
       "      <td>0</td>\n",
       "    </tr>\n",
       "    <tr>\n",
       "      <th>3259</th>\n",
       "      <td>0</td>\n",
       "    </tr>\n",
       "    <tr>\n",
       "      <th>4239</th>\n",
       "      <td>0</td>\n",
       "    </tr>\n",
       "    <tr>\n",
       "      <th>2233</th>\n",
       "      <td>0</td>\n",
       "    </tr>\n",
       "  </tbody>\n",
       "</table>\n",
       "<p>905 rows × 1 columns</p>\n",
       "</div>"
      ],
      "text/plain": [
       "      Subscription\n",
       "2398             0\n",
       "800              0\n",
       "2288             0\n",
       "2344             0\n",
       "3615             0\n",
       "...            ...\n",
       "3589             0\n",
       "3128             0\n",
       "3259             0\n",
       "4239             0\n",
       "2233             0\n",
       "\n",
       "[905 rows x 1 columns]"
      ]
     },
     "execution_count": 13,
     "metadata": {},
     "output_type": "execute_result"
    }
   ],
   "source": [
    "# Predicting the model on test data\n",
    "y_test"
   ]
  },
  {
   "cell_type": "code",
   "execution_count": 14,
   "id": "753128e4",
   "metadata": {},
   "outputs": [
    {
     "data": {
      "text/html": [
       "<div>\n",
       "<style scoped>\n",
       "    .dataframe tbody tr th:only-of-type {\n",
       "        vertical-align: middle;\n",
       "    }\n",
       "\n",
       "    .dataframe tbody tr th {\n",
       "        vertical-align: top;\n",
       "    }\n",
       "\n",
       "    .dataframe thead th {\n",
       "        text-align: right;\n",
       "    }\n",
       "</style>\n",
       "<table border=\"1\" class=\"dataframe\">\n",
       "  <thead>\n",
       "    <tr style=\"text-align: right;\">\n",
       "      <th></th>\n",
       "      <th>Subscription</th>\n",
       "      <th>Prediction</th>\n",
       "    </tr>\n",
       "  </thead>\n",
       "  <tbody>\n",
       "    <tr>\n",
       "      <th>2398</th>\n",
       "      <td>0</td>\n",
       "      <td>0</td>\n",
       "    </tr>\n",
       "    <tr>\n",
       "      <th>800</th>\n",
       "      <td>0</td>\n",
       "      <td>0</td>\n",
       "    </tr>\n",
       "    <tr>\n",
       "      <th>2288</th>\n",
       "      <td>0</td>\n",
       "      <td>0</td>\n",
       "    </tr>\n",
       "    <tr>\n",
       "      <th>2344</th>\n",
       "      <td>0</td>\n",
       "      <td>0</td>\n",
       "    </tr>\n",
       "    <tr>\n",
       "      <th>3615</th>\n",
       "      <td>0</td>\n",
       "      <td>0</td>\n",
       "    </tr>\n",
       "    <tr>\n",
       "      <th>...</th>\n",
       "      <td>...</td>\n",
       "      <td>...</td>\n",
       "    </tr>\n",
       "    <tr>\n",
       "      <th>3589</th>\n",
       "      <td>0</td>\n",
       "      <td>0</td>\n",
       "    </tr>\n",
       "    <tr>\n",
       "      <th>3128</th>\n",
       "      <td>0</td>\n",
       "      <td>0</td>\n",
       "    </tr>\n",
       "    <tr>\n",
       "      <th>3259</th>\n",
       "      <td>0</td>\n",
       "      <td>0</td>\n",
       "    </tr>\n",
       "    <tr>\n",
       "      <th>4239</th>\n",
       "      <td>0</td>\n",
       "      <td>0</td>\n",
       "    </tr>\n",
       "    <tr>\n",
       "      <th>2233</th>\n",
       "      <td>0</td>\n",
       "      <td>0</td>\n",
       "    </tr>\n",
       "  </tbody>\n",
       "</table>\n",
       "<p>905 rows × 2 columns</p>\n",
       "</div>"
      ],
      "text/plain": [
       "      Subscription  Prediction\n",
       "2398             0           0\n",
       "800              0           0\n",
       "2288             0           0\n",
       "2344             0           0\n",
       "3615             0           0\n",
       "...            ...         ...\n",
       "3589             0           0\n",
       "3128             0           0\n",
       "3259             0           0\n",
       "4239             0           0\n",
       "2233             0           0\n",
       "\n",
       "[905 rows x 2 columns]"
      ]
     },
     "execution_count": 14,
     "metadata": {},
     "output_type": "execute_result"
    }
   ],
   "source": [
    "y_test['Prediction'] = model.predict(x_test)\n",
    "y_test"
   ]
  },
  {
   "cell_type": "code",
   "execution_count": 15,
   "id": "56cd0bba",
   "metadata": {},
   "outputs": [
    {
     "name": "stdout",
     "output_type": "stream",
     "text": [
      "[[777  26]\n",
      " [ 95   7]]\n"
     ]
    }
   ],
   "source": [
    "from sklearn.metrics import confusion_matrix, accuracy_score\n",
    "print(confusion_matrix(y_test['Subscription'],y_test['Prediction']))"
   ]
  },
  {
   "cell_type": "code",
   "execution_count": 16,
   "id": "9c16fa4b",
   "metadata": {},
   "outputs": [
    {
     "name": "stdout",
     "output_type": "stream",
     "text": [
      "0.8662983425414365\n"
     ]
    }
   ],
   "source": [
    "print(accuracy_score(y_test['Subscription'],y_test['Prediction']))"
   ]
  },
  {
   "cell_type": "code",
   "execution_count": 17,
   "id": "76430d17",
   "metadata": {},
   "outputs": [],
   "source": [
    "## My Model Accuracy Score is 0.8662 or 86.62% correctly predicted\n"
   ]
  },
  {
   "cell_type": "markdown",
   "id": "6fb81fb3",
   "metadata": {},
   "source": [
    "2) What is the accuracy of Support Vector Machine? How does changing the model affect the accuracy"
   ]
  },
  {
   "cell_type": "code",
   "execution_count": 18,
   "id": "25425b68",
   "metadata": {},
   "outputs": [],
   "source": [
    "#Identifying the input and output variables\n",
    "Y1 = Bank_dummy[['Subscription']]\n",
    "X1 = Bank_dummy.drop(columns=['Subscription'])"
   ]
  },
  {
   "cell_type": "code",
   "execution_count": 19,
   "id": "e487955b",
   "metadata": {},
   "outputs": [
    {
     "data": {
      "text/html": [
       "<div>\n",
       "<style scoped>\n",
       "    .dataframe tbody tr th:only-of-type {\n",
       "        vertical-align: middle;\n",
       "    }\n",
       "\n",
       "    .dataframe tbody tr th {\n",
       "        vertical-align: top;\n",
       "    }\n",
       "\n",
       "    .dataframe thead th {\n",
       "        text-align: right;\n",
       "    }\n",
       "</style>\n",
       "<table border=\"1\" class=\"dataframe\">\n",
       "  <thead>\n",
       "    <tr style=\"text-align: right;\">\n",
       "      <th></th>\n",
       "      <th>Age</th>\n",
       "      <th>Account Balance</th>\n",
       "      <th>Own House</th>\n",
       "      <th>Personal Loan</th>\n",
       "      <th>No of campaigns</th>\n",
       "      <th>Job_blue-collar</th>\n",
       "      <th>Job_management</th>\n",
       "      <th>Job_self-employed</th>\n",
       "      <th>Job_unemployed</th>\n",
       "      <th>Marital Status_married</th>\n",
       "      <th>Marital Status_single</th>\n",
       "    </tr>\n",
       "  </thead>\n",
       "  <tbody>\n",
       "    <tr>\n",
       "      <th>0</th>\n",
       "      <td>59</td>\n",
       "      <td>0</td>\n",
       "      <td>0</td>\n",
       "      <td>0</td>\n",
       "      <td>0</td>\n",
       "      <td>0</td>\n",
       "      <td>0</td>\n",
       "      <td>0</td>\n",
       "      <td>1</td>\n",
       "      <td>1</td>\n",
       "      <td>0</td>\n",
       "    </tr>\n",
       "    <tr>\n",
       "      <th>1</th>\n",
       "      <td>36</td>\n",
       "      <td>3057</td>\n",
       "      <td>0</td>\n",
       "      <td>0</td>\n",
       "      <td>0</td>\n",
       "      <td>0</td>\n",
       "      <td>0</td>\n",
       "      <td>0</td>\n",
       "      <td>0</td>\n",
       "      <td>1</td>\n",
       "      <td>0</td>\n",
       "    </tr>\n",
       "    <tr>\n",
       "      <th>2</th>\n",
       "      <td>47</td>\n",
       "      <td>126</td>\n",
       "      <td>1</td>\n",
       "      <td>0</td>\n",
       "      <td>0</td>\n",
       "      <td>1</td>\n",
       "      <td>0</td>\n",
       "      <td>0</td>\n",
       "      <td>0</td>\n",
       "      <td>0</td>\n",
       "      <td>0</td>\n",
       "    </tr>\n",
       "    <tr>\n",
       "      <th>3</th>\n",
       "      <td>43</td>\n",
       "      <td>388</td>\n",
       "      <td>1</td>\n",
       "      <td>0</td>\n",
       "      <td>0</td>\n",
       "      <td>0</td>\n",
       "      <td>1</td>\n",
       "      <td>0</td>\n",
       "      <td>0</td>\n",
       "      <td>0</td>\n",
       "      <td>0</td>\n",
       "    </tr>\n",
       "    <tr>\n",
       "      <th>4</th>\n",
       "      <td>34</td>\n",
       "      <td>462</td>\n",
       "      <td>0</td>\n",
       "      <td>0</td>\n",
       "      <td>0</td>\n",
       "      <td>0</td>\n",
       "      <td>0</td>\n",
       "      <td>1</td>\n",
       "      <td>0</td>\n",
       "      <td>0</td>\n",
       "      <td>1</td>\n",
       "    </tr>\n",
       "  </tbody>\n",
       "</table>\n",
       "</div>"
      ],
      "text/plain": [
       "   Age  Account Balance  Own House  Personal Loan  No of campaigns  \\\n",
       "0   59                0          0              0                0   \n",
       "1   36             3057          0              0                0   \n",
       "2   47              126          1              0                0   \n",
       "3   43              388          1              0                0   \n",
       "4   34              462          0              0                0   \n",
       "\n",
       "   Job_blue-collar  Job_management  Job_self-employed  Job_unemployed  \\\n",
       "0                0               0                  0               1   \n",
       "1                0               0                  0               0   \n",
       "2                1               0                  0               0   \n",
       "3                0               1                  0               0   \n",
       "4                0               0                  1               0   \n",
       "\n",
       "   Marital Status_married  Marital Status_single  \n",
       "0                       1                      0  \n",
       "1                       1                      0  \n",
       "2                       0                      0  \n",
       "3                       0                      0  \n",
       "4                       0                      1  "
      ]
     },
     "execution_count": 19,
     "metadata": {},
     "output_type": "execute_result"
    }
   ],
   "source": [
    "X1.head()"
   ]
  },
  {
   "cell_type": "code",
   "execution_count": 20,
   "id": "82610372",
   "metadata": {},
   "outputs": [
    {
     "data": {
      "text/plain": [
       "(3616, 905, 3616, 905)"
      ]
     },
     "execution_count": 20,
     "metadata": {},
     "output_type": "execute_result"
    }
   ],
   "source": [
    "#Spillting the data into train and test\n",
    "\n",
    "from sklearn.model_selection import train_test_split\n",
    "x1_train,x1_test,y1_train,y1_test = train_test_split(X1,Y1,test_size=0.2,random_state=42)\n",
    "len(x1_train),len(x1_test),len(y1_train),len(y1_test)"
   ]
  },
  {
   "cell_type": "code",
   "execution_count": 21,
   "id": "fe72467a",
   "metadata": {},
   "outputs": [],
   "source": [
    "from sklearn.svm import SVC\n",
    "model1 = SVC(random_state=42)"
   ]
  },
  {
   "cell_type": "code",
   "execution_count": 22,
   "id": "776c8054",
   "metadata": {},
   "outputs": [
    {
     "name": "stderr",
     "output_type": "stream",
     "text": [
      "C:\\Users\\Pratik\\anaconda3\\lib\\site-packages\\sklearn\\utils\\validation.py:993: DataConversionWarning: A column-vector y was passed when a 1d array was expected. Please change the shape of y to (n_samples, ), for example using ravel().\n",
      "  y = column_or_1d(y, warn=True)\n"
     ]
    },
    {
     "name": "stdout",
     "output_type": "stream",
     "text": [
      "The model has been built successfully!! yeah\n"
     ]
    }
   ],
   "source": [
    "# fitting the Model\n",
    "svc_model = model1.fit(x1_train,y1_train)\n",
    "print('The model has been built successfully!! yeah')"
   ]
  },
  {
   "cell_type": "code",
   "execution_count": 23,
   "id": "061b5104",
   "metadata": {},
   "outputs": [
    {
     "data": {
      "text/html": [
       "<div>\n",
       "<style scoped>\n",
       "    .dataframe tbody tr th:only-of-type {\n",
       "        vertical-align: middle;\n",
       "    }\n",
       "\n",
       "    .dataframe tbody tr th {\n",
       "        vertical-align: top;\n",
       "    }\n",
       "\n",
       "    .dataframe thead th {\n",
       "        text-align: right;\n",
       "    }\n",
       "</style>\n",
       "<table border=\"1\" class=\"dataframe\">\n",
       "  <thead>\n",
       "    <tr style=\"text-align: right;\">\n",
       "      <th></th>\n",
       "      <th>Subscription</th>\n",
       "    </tr>\n",
       "  </thead>\n",
       "  <tbody>\n",
       "    <tr>\n",
       "      <th>2398</th>\n",
       "      <td>0</td>\n",
       "    </tr>\n",
       "    <tr>\n",
       "      <th>800</th>\n",
       "      <td>0</td>\n",
       "    </tr>\n",
       "    <tr>\n",
       "      <th>2288</th>\n",
       "      <td>0</td>\n",
       "    </tr>\n",
       "    <tr>\n",
       "      <th>2344</th>\n",
       "      <td>0</td>\n",
       "    </tr>\n",
       "    <tr>\n",
       "      <th>3615</th>\n",
       "      <td>0</td>\n",
       "    </tr>\n",
       "    <tr>\n",
       "      <th>...</th>\n",
       "      <td>...</td>\n",
       "    </tr>\n",
       "    <tr>\n",
       "      <th>3589</th>\n",
       "      <td>0</td>\n",
       "    </tr>\n",
       "    <tr>\n",
       "      <th>3128</th>\n",
       "      <td>0</td>\n",
       "    </tr>\n",
       "    <tr>\n",
       "      <th>3259</th>\n",
       "      <td>0</td>\n",
       "    </tr>\n",
       "    <tr>\n",
       "      <th>4239</th>\n",
       "      <td>0</td>\n",
       "    </tr>\n",
       "    <tr>\n",
       "      <th>2233</th>\n",
       "      <td>0</td>\n",
       "    </tr>\n",
       "  </tbody>\n",
       "</table>\n",
       "<p>905 rows × 1 columns</p>\n",
       "</div>"
      ],
      "text/plain": [
       "      Subscription\n",
       "2398             0\n",
       "800              0\n",
       "2288             0\n",
       "2344             0\n",
       "3615             0\n",
       "...            ...\n",
       "3589             0\n",
       "3128             0\n",
       "3259             0\n",
       "4239             0\n",
       "2233             0\n",
       "\n",
       "[905 rows x 1 columns]"
      ]
     },
     "execution_count": 23,
     "metadata": {},
     "output_type": "execute_result"
    }
   ],
   "source": [
    "#PRediction of test data\n",
    "y1_test"
   ]
  },
  {
   "cell_type": "code",
   "execution_count": 24,
   "id": "22ae9158",
   "metadata": {},
   "outputs": [],
   "source": [
    "y1_test['Prediction'] = svc_model.predict(x1_test)"
   ]
  },
  {
   "cell_type": "code",
   "execution_count": 25,
   "id": "b49486bd",
   "metadata": {},
   "outputs": [
    {
     "data": {
      "text/html": [
       "<div>\n",
       "<style scoped>\n",
       "    .dataframe tbody tr th:only-of-type {\n",
       "        vertical-align: middle;\n",
       "    }\n",
       "\n",
       "    .dataframe tbody tr th {\n",
       "        vertical-align: top;\n",
       "    }\n",
       "\n",
       "    .dataframe thead th {\n",
       "        text-align: right;\n",
       "    }\n",
       "</style>\n",
       "<table border=\"1\" class=\"dataframe\">\n",
       "  <thead>\n",
       "    <tr style=\"text-align: right;\">\n",
       "      <th></th>\n",
       "      <th>Subscription</th>\n",
       "      <th>Prediction</th>\n",
       "    </tr>\n",
       "  </thead>\n",
       "  <tbody>\n",
       "    <tr>\n",
       "      <th>2398</th>\n",
       "      <td>0</td>\n",
       "      <td>0</td>\n",
       "    </tr>\n",
       "    <tr>\n",
       "      <th>800</th>\n",
       "      <td>0</td>\n",
       "      <td>0</td>\n",
       "    </tr>\n",
       "    <tr>\n",
       "      <th>2288</th>\n",
       "      <td>0</td>\n",
       "      <td>0</td>\n",
       "    </tr>\n",
       "    <tr>\n",
       "      <th>2344</th>\n",
       "      <td>0</td>\n",
       "      <td>0</td>\n",
       "    </tr>\n",
       "    <tr>\n",
       "      <th>3615</th>\n",
       "      <td>0</td>\n",
       "      <td>0</td>\n",
       "    </tr>\n",
       "    <tr>\n",
       "      <th>...</th>\n",
       "      <td>...</td>\n",
       "      <td>...</td>\n",
       "    </tr>\n",
       "    <tr>\n",
       "      <th>3589</th>\n",
       "      <td>0</td>\n",
       "      <td>0</td>\n",
       "    </tr>\n",
       "    <tr>\n",
       "      <th>3128</th>\n",
       "      <td>0</td>\n",
       "      <td>0</td>\n",
       "    </tr>\n",
       "    <tr>\n",
       "      <th>3259</th>\n",
       "      <td>0</td>\n",
       "      <td>0</td>\n",
       "    </tr>\n",
       "    <tr>\n",
       "      <th>4239</th>\n",
       "      <td>0</td>\n",
       "      <td>0</td>\n",
       "    </tr>\n",
       "    <tr>\n",
       "      <th>2233</th>\n",
       "      <td>0</td>\n",
       "      <td>0</td>\n",
       "    </tr>\n",
       "  </tbody>\n",
       "</table>\n",
       "<p>905 rows × 2 columns</p>\n",
       "</div>"
      ],
      "text/plain": [
       "      Subscription  Prediction\n",
       "2398             0           0\n",
       "800              0           0\n",
       "2288             0           0\n",
       "2344             0           0\n",
       "3615             0           0\n",
       "...            ...         ...\n",
       "3589             0           0\n",
       "3128             0           0\n",
       "3259             0           0\n",
       "4239             0           0\n",
       "2233             0           0\n",
       "\n",
       "[905 rows x 2 columns]"
      ]
     },
     "execution_count": 25,
     "metadata": {},
     "output_type": "execute_result"
    }
   ],
   "source": [
    "y1_test"
   ]
  },
  {
   "cell_type": "code",
   "execution_count": 26,
   "id": "ae882f16",
   "metadata": {},
   "outputs": [
    {
     "name": "stdout",
     "output_type": "stream",
     "text": [
      "[[803   0]\n",
      " [102   0]]\n"
     ]
    }
   ],
   "source": [
    "from sklearn.metrics import confusion_matrix,accuracy_score\n",
    "print(confusion_matrix(y1_test['Subscription'],y1_test['Prediction']))"
   ]
  },
  {
   "cell_type": "code",
   "execution_count": 27,
   "id": "ca321e25",
   "metadata": {},
   "outputs": [
    {
     "name": "stdout",
     "output_type": "stream",
     "text": [
      "0.887292817679558\n"
     ]
    }
   ],
   "source": [
    "print(accuracy_score(y1_test['Subscription'],y1_test['Prediction']))"
   ]
  },
  {
   "cell_type": "code",
   "execution_count": 1,
   "id": "9e53d41e",
   "metadata": {},
   "outputs": [],
   "source": [
    "##Here we can see that using SVM acurracy of my model increase it's predict More no of Data correctly but \n",
    "#  it's only Predict  one kind of Data Correctly which is those doesn't have subscription(\"0\").\n"
   ]
  },
  {
   "cell_type": "code",
   "execution_count": 28,
   "id": "6840d9cf",
   "metadata": {},
   "outputs": [
    {
     "data": {
      "text/plain": [
       "array([0.2979414 , 0.47291481, 0.02827675, 0.01718792, 0.09330933,\n",
       "       0.01799654, 0.0224766 , 0.00881842, 0.00651201, 0.01989496,\n",
       "       0.01467124])"
      ]
     },
     "execution_count": 28,
     "metadata": {},
     "output_type": "execute_result"
    }
   ],
   "source": [
    "model.feature_importances_"
   ]
  },
  {
   "cell_type": "code",
   "execution_count": 31,
   "id": "6dabd8d0",
   "metadata": {},
   "outputs": [
    {
     "data": {
      "text/plain": [
       "Account Balance    0.472915\n",
       "Age                0.297941\n",
       "No of campaigns    0.093309\n",
       "Own House          0.028277\n",
       "dtype: float64"
      ]
     },
     "execution_count": 31,
     "metadata": {},
     "output_type": "execute_result"
    }
   ],
   "source": [
    "forest_importance = pd.Series(model.feature_importances_,index=X.columns)\n",
    "forest_importance.sort_values(ascending=False).head(4)"
   ]
  },
  {
   "cell_type": "code",
   "execution_count": 2,
   "id": "50350349",
   "metadata": {},
   "outputs": [],
   "source": [
    "## 3) above 4 columns are most importance factor in Random Forest Model.Here Customer Account Balance and Age are \n",
    "#   most important Factor For getting Subscription."
   ]
  },
  {
   "cell_type": "code",
   "execution_count": null,
   "id": "271319df",
   "metadata": {},
   "outputs": [],
   "source": [
    "# 4)SVM Model  only Predict  one kind of Data Correctly which is those doesn't have subscription(\"0\").\n",
    "# so though it's have a better accuracy than Random Forest but Random Forest overall have a better Model bcz it's predict both the Data correctly\n",
    "#   with good accuracy."
   ]
  }
 ],
 "metadata": {
  "kernelspec": {
   "display_name": "Python 3 (ipykernel)",
   "language": "python",
   "name": "python3"
  },
  "language_info": {
   "codemirror_mode": {
    "name": "ipython",
    "version": 3
   },
   "file_extension": ".py",
   "mimetype": "text/x-python",
   "name": "python",
   "nbconvert_exporter": "python",
   "pygments_lexer": "ipython3",
   "version": "3.9.7"
  }
 },
 "nbformat": 4,
 "nbformat_minor": 5
}
